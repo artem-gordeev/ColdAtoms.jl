{
 "cells": [
  {
   "cell_type": "code",
   "execution_count": 6,
   "metadata": {},
   "outputs": [
    {
     "name": "stderr",
     "output_type": "stream",
     "text": [
      "\u001b[32m\u001b[1m    Updating\u001b[22m\u001b[39m git-repo `https://github.com/artem-gordeev/ColdAtoms.jl`\n",
      "\u001b[32m\u001b[1m   Resolving\u001b[22m\u001b[39m package versions...\n",
      "\u001b[32m\u001b[1m    Updating\u001b[22m\u001b[39m `C:\\Users\\А\\.julia\\environments\\v1.11\\Project.toml`\n",
      "  \u001b[90m[a4a6137b] \u001b[39m\u001b[93m~ ColdAtoms v0.1.0-DEV `https://github.com/artem-gordeev/ColdAtoms.jl#main` ⇒ v0.1.0-DEV `https://github.com/artem-gordeev/ColdAtoms.jl#main`\u001b[39m\n",
      "\u001b[32m\u001b[1m    Updating\u001b[22m\u001b[39m `C:\\Users\\А\\.julia\\environments\\v1.11\\Manifest.toml`\n",
      "  \u001b[90m[a4a6137b] \u001b[39m\u001b[93m~ ColdAtoms v0.1.0-DEV `https://github.com/artem-gordeev/ColdAtoms.jl#main` ⇒ v0.1.0-DEV `https://github.com/artem-gordeev/ColdAtoms.jl#main`\u001b[39m\n",
      "\u001b[92m\u001b[1mPrecompiling\u001b[22m\u001b[39m project...\n",
      "         \u001b[91m  ✗ \u001b[39mColdAtoms\n",
      "  0 dependencies successfully precompiled in 23 seconds. 349 already precompiled.\n",
      "\n",
      "The following 1 direct dependency failed to precompile:\n",
      "\n",
      "ColdAtoms \n",
      "\n",
      "Failed to precompile ColdAtoms [a4a6137b-c86d-4c79-adc4-1660e24cdd31] to \"C:\\\\Users\\\\А\\\\.julia\\\\compiled\\\\v1.11\\\\ColdAtoms\\\\jl_F85.tmp\".\n",
      "\u001b[91m\u001b[1mERROR: \u001b[22m\u001b[39mLoadError: ArgumentError: Package ColdAtoms does not have Polynomials in its dependencies:\n",
      "- You may have a partially installed environment. Try `Pkg.instantiate()`\n",
      "  to ensure all packages in the environment are installed.\n",
      "- Or, if you have ColdAtoms checked out for development and have\n",
      "  added Polynomials as a dependency but haven't updated your primary\n",
      "  environment's manifest file, try `Pkg.resolve()`.\n",
      "- Otherwise you may need to report an issue with ColdAtoms\n",
      "Stacktrace:\n",
      " [1] \u001b[0m\u001b[1minclude\u001b[22m\u001b[0m\u001b[1m(\u001b[22m\u001b[90mx\u001b[39m::\u001b[0mString\u001b[0m\u001b[1m)\u001b[22m\n",
      "\u001b[90m   @\u001b[39m \u001b[35mColdAtoms\u001b[39m \u001b[90mC:\\Users\\А\\.julia\\packages\\ColdAtoms\\2hGoe\\src\\\u001b[39m\u001b[90m\u001b[4mColdAtoms.jl:1\u001b[24m\u001b[39m\n",
      " [2] top-level scope\n",
      "\u001b[90m   @\u001b[39m \u001b[90mC:\\Users\\А\\.julia\\packages\\ColdAtoms\\2hGoe\\src\\\u001b[39m\u001b[90m\u001b[4mColdAtoms.jl:26\u001b[24m\u001b[39m\n",
      " [3] top-level scope\n",
      "\u001b[90m   @\u001b[39m \u001b[90m\u001b[4mstdin:6\u001b[24m\u001b[39m\n",
      "in expression starting at C:\\Users\\А\\.julia\\packages\\ColdAtoms\\2hGoe\\src\\arbitrary_beams.jl:2\n",
      "in expression starting at C:\\Users\\А\\.julia\\packages\\ColdAtoms\\2hGoe\\src\\ColdAtoms.jl:1\n",
      "in expression starting at stdin:"
     ]
    }
   ],
   "source": [
    "using Pkg\n",
    "Pkg.add(PackageSpec(url=\"https://github.com/artem-gordeev/ColdAtoms.jl\"))"
   ]
  },
  {
   "cell_type": "code",
   "execution_count": 8,
   "metadata": {},
   "outputs": [
    {
     "ename": "UndefVarError",
     "evalue": "UndefVarError: `HG_coeff` not defined in `Main`\nSuggestion: check for spelling errors or missing imports.",
     "output_type": "error",
     "traceback": [
      "UndefVarError: `HG_coeff` not defined in `Main`\n",
      "Suggestion: check for spelling errors or missing imports.\n",
      "\n",
      "Stacktrace:\n",
      " [1] top-level scope\n",
      "   @ c:\\Users\\А\\Documents\\GitHub\\ColdAtoms.jl\\notebooks\\modeling.ipynb:2"
     ]
    }
   ],
   "source": [
    "using ColdAtoms\n",
    "HG_coeff(2,3)"
   ]
  },
  {
   "cell_type": "code",
   "execution_count": null,
   "metadata": {},
   "outputs": [],
   "source": []
  }
 ],
 "metadata": {
  "kernelspec": {
   "display_name": "Julia 1.11.5",
   "language": "julia",
   "name": "julia-1.11"
  },
  "language_info": {
   "file_extension": ".jl",
   "mimetype": "application/julia",
   "name": "julia",
   "version": "1.11.5"
  }
 },
 "nbformat": 4,
 "nbformat_minor": 2
}
