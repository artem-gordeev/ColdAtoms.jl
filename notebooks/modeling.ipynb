{
 "cells": [
  {
   "cell_type": "code",
   "execution_count": 7,
   "metadata": {},
   "outputs": [
    {
     "name": "stderr",
     "output_type": "stream",
     "text": [
      "\u001b[32m\u001b[1m    Updating\u001b[22m\u001b[39m git-repo `https://github.com/artem-gordeev/ColdAtoms.jl`\n",
      "\u001b[32m\u001b[1m   Resolving\u001b[22m\u001b[39m package versions...\n",
      "\u001b[32m\u001b[1m    Updating\u001b[22m\u001b[39m `C:\\Users\\А\\.julia\\environments\\v1.11\\Project.toml`\n",
      "  \u001b[90m[a4a6137b] \u001b[39m\u001b[93m~ ColdAtoms v0.1.0-DEV `https://github.com/artem-gordeev/ColdAtoms.jl#main` ⇒ v0.1.0-DEV `https://github.com/artem-gordeev/ColdAtoms.jl#main`\u001b[39m\n",
      "\u001b[32m\u001b[1m    Updating\u001b[22m\u001b[39m `C:\\Users\\А\\.julia\\environments\\v1.11\\Manifest.toml`\n",
      "  \u001b[90m[a4a6137b] \u001b[39m\u001b[93m~ ColdAtoms v0.1.0-DEV `https://github.com/artem-gordeev/ColdAtoms.jl#main` ⇒ v0.1.0-DEV `https://github.com/artem-gordeev/ColdAtoms.jl#main`\u001b[39m\n",
      "  \u001b[90m[c03570c3] \u001b[39m\u001b[92m+ Memoize v0.4.4\u001b[39m\n",
      "  \u001b[90m[f27b6e38] \u001b[39m\u001b[92m+ Polynomials v4.0.19\u001b[39m\n",
      "  \u001b[90m[a25cea48] \u001b[39m\u001b[92m+ SpecialPolynomials v0.5.0\u001b[39m\n",
      "\u001b[92m\u001b[1mPrecompiling\u001b[22m\u001b[39m project...\n",
      "  18044.2 ms\u001b[33m  ? \u001b[39mColdAtoms\n"
     ]
    }
   ],
   "source": [
    "using Pkg\n",
    "Pkg.add(PackageSpec(url=\"https://github.com/artem-gordeev/ColdAtoms.jl\"))"
   ]
  },
  {
   "cell_type": "code",
   "execution_count": 8,
   "metadata": {},
   "outputs": [
    {
     "name": "stderr",
     "output_type": "stream",
     "text": [
      "WARNING: redefinition of constant ColdAtoms.basis. This may fail, cause incorrect answers, or produce other errors.\n",
      "WARNING: redefinition of constant ColdAtoms.g. This may fail, cause incorrect answers, or produce other errors.\n",
      "WARNING: redefinition of constant ColdAtoms.p. This may fail, cause incorrect answers, or produce other errors.\n",
      "WARNING: redefinition of constant ColdAtoms.r. This may fail, cause incorrect answers, or produce other errors.\n",
      "WARNING: redefinition of constant ColdAtoms.gt. This may fail, cause incorrect answers, or produce other errors.\n",
      "WARNING: redefinition of constant ColdAtoms.σgp. This may fail, cause incorrect answers, or produce other errors.\n",
      "WARNING: redefinition of constant ColdAtoms.σpg. This may fail, cause incorrect answers, or produce other errors.\n",
      "WARNING: redefinition of constant ColdAtoms.σpr. This may fail, cause incorrect answers, or produce other errors.\n",
      "WARNING: redefinition of constant ColdAtoms.σrp. This may fail, cause incorrect answers, or produce other errors.\n",
      "WARNING: redefinition of constant ColdAtoms.np. This may fail, cause incorrect answers, or produce other errors.\n",
      "WARNING: redefinition of constant ColdAtoms.nr. This may fail, cause incorrect answers, or produce other errors.\n",
      "WARNING: redefinition of constant ColdAtoms.σgtp. This may fail, cause incorrect answers, or produce other errors.\n",
      "WARNING: redefinition of constant ColdAtoms.σpgt. This may fail, cause incorrect answers, or produce other errors.\n",
      "WARNING: redefinition of constant ColdAtoms.operators. This may fail, cause incorrect answers, or produce other errors.\n",
      "WARNING: Method definition Ω(Any, Any, Any, Any) in module ColdAtoms at C:\\Users\\А\\.julia\\packages\\ColdAtoms\\rmokM\\src\\rydberg_model.jl:22 overwritten at C:\\Users\\А\\.julia\\packages\\ColdAtoms\\rmokM\\src\\rydberg_model_arb_bms.jl:40.\n",
      "ERROR: Method overwriting is not permitted during Module precompilation. Use `__precompile__(false)` to opt-out of precompilation.\n",
      "WARNING: redefinition of constant ColdAtoms.basis. This may fail, cause incorrect answers, or produce other errors.\n",
      "WARNING: redefinition of constant ColdAtoms.g. This may fail, cause incorrect answers, or produce other errors.\n",
      "WARNING: redefinition of constant ColdAtoms.p. This may fail, cause incorrect answers, or produce other errors.\n",
      "WARNING: redefinition of constant ColdAtoms.r. This may fail, cause incorrect answers, or produce other errors.\n",
      "WARNING: redefinition of constant ColdAtoms.gt. This may fail, cause incorrect answers, or produce other errors.\n",
      "WARNING: redefinition of constant ColdAtoms.σgp. This may fail, cause incorrect answers, or produce other errors.\n",
      "WARNING: redefinition of constant ColdAtoms.σpg. This may fail, cause incorrect answers, or produce other errors.\n",
      "WARNING: redefinition of constant ColdAtoms.σpr. This may fail, cause incorrect answers, or produce other errors.\n",
      "WARNING: redefinition of constant ColdAtoms.σrp. This may fail, cause incorrect answers, or produce other errors.\n",
      "WARNING: redefinition of constant ColdAtoms.np. This may fail, cause incorrect answers, or produce other errors.\n",
      "WARNING: redefinition of constant ColdAtoms.nr. This may fail, cause incorrect answers, or produce other errors.\n",
      "WARNING: redefinition of constant ColdAtoms.σgtp. This may fail, cause incorrect answers, or produce other errors.\n",
      "WARNING: redefinition of constant ColdAtoms.σpgt. This may fail, cause incorrect answers, or produce other errors.\n",
      "WARNING: redefinition of constant ColdAtoms.operators. This may fail, cause incorrect answers, or produce other errors.\n"
     ]
    },
    {
     "data": {
      "text/plain": [
       "0.017578125"
      ]
     },
     "metadata": {},
     "output_type": "display_data"
    }
   ],
   "source": [
    "using ColdAtoms\n",
    "HG_coeff(2,3)"
   ]
  },
  {
   "cell_type": "code",
   "execution_count": null,
   "metadata": {},
   "outputs": [],
   "source": []
  }
 ],
 "metadata": {
  "kernelspec": {
   "display_name": "Julia 1.11.5",
   "language": "julia",
   "name": "julia-1.11"
  },
  "language_info": {
   "file_extension": ".jl",
   "mimetype": "application/julia",
   "name": "julia",
   "version": "1.11.5"
  }
 },
 "nbformat": 4,
 "nbformat_minor": 2
}
