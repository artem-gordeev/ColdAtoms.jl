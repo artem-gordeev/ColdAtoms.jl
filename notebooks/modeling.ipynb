{
 "cells": [
  {
   "cell_type": "code",
   "execution_count": null,
   "metadata": {},
   "outputs": [],
   "source": [
    "using Pkg\n",
    "Pkg.add(PackageSpec(url=\"https://github.com/artem-gordeev/ColdAtoms.jl\"))"
   ]
  },
  {
   "cell_type": "code",
   "execution_count": null,
   "metadata": {},
   "outputs": [],
   "source": [
    "fontsize = 14;\n",
    "linewidth = 2;\n",
    "color = \"red\";"
   ]
  },
  {
   "cell_type": "code",
   "execution_count": null,
   "metadata": {},
   "outputs": [],
   "source": [
    "using QuantumOptics\n",
    "include(\"../params/default.jl\")\n",
    "\n",
    "N = 10;\n",
    "samples, acc_rate = samples_generate(trap_params, atom_params, N; skip=5000, freq=1000);\n",
    "\n",
    "detuning_params = [Δ0, δ_twophoton(Ωr, Ωb, Δ0)];\n",
    "\n",
    "n=4\n",
    "blue_laser_params = [Ωb, wb, zb, \"simp_flattop_LG\", n, n];\n",
    "\n",
    "T0 = T_twophoton(Ωr, Ωb, Δ0);\n",
    "tspan = [0.0:T0/10:1*T0;];\n",
    "ψ0 = g;"
   ]
  },
  {
   "cell_type": "code",
   "execution_count": null,
   "metadata": {},
   "outputs": [],
   "source": [
    "ρ_mean, ρ2_mean = simulation_blue_intens(\n",
    "    tspan, ψ0,  \n",
    "    atom_params,    trap_params,     samples,\n",
    "    red_laser_params,    blue_laser_params,\n",
    "    detuning_params,    decay_params;\n",
    "    atom_motion = true,    free_motion = true,   \n",
    "    spontaneous_decay = true, parallel = false\n",
    "    );\n",
    "    \n",
    "Pg = real(expect(g ⊗ dagger(g), ρ_mean)); \n",
    "Pr = real(expect(r ⊗ dagger(r), ρ_mean));  "
   ]
  },
  {
   "cell_type": "code",
   "execution_count": null,
   "metadata": {},
   "outputs": [],
   "source": [
    "using PlotlyJS\n",
    "trace1 = scatter(x=tspan, y=Pr,\n",
    "mode=\"lines+markers\",\n",
    "name=\"modeling\")\n",
    "plot([trace1])   "
   ]
  },
  {
   "cell_type": "code",
   "execution_count": null,
   "metadata": {},
   "outputs": [],
   "source": [
    "using LsqFit\n",
    "@. model(x, p) = 0.5*(1 - exp(-p[2]*x)*cos(p[1]*x)) \n",
    "p0 = [18.0,1.0]\n",
    "fit = curve_fit(model, tspan, Pr, p0)\n",
    "print(coef(fit)[2]/coef(fit)[1])"
   ]
  },
  {
   "cell_type": "code",
   "execution_count": null,
   "metadata": {},
   "outputs": [],
   "source": [
    "using PlotlyJS\n",
    "trace1 = scatter(x=tspan, y=Pr,\n",
    "mode=\"lines+markers\",\n",
    "name=\"modeling\")\n",
    "trace2 = scatter(x=tspan, y=model(tspan, coef(fit)),\n",
    "mode=\"lines+markers\",\n",
    "name=\"decaying rabi fit\")\n",
    "plot([trace1,trace2])   "
   ]
  },
  {
   "cell_type": "code",
   "execution_count": null,
   "metadata": {},
   "outputs": [],
   "source": [
    "ρ_mean, ρ2_mean = \n",
    "    simulation(\n",
    "        tspan, ψ0, \n",
    "        \n",
    "        atom_params,\n",
    "        trap_params,\n",
    "        samples,\n",
    "        \n",
    "        f,\n",
    "        red_laser_phase_amplitudes,\n",
    "        blue_laser_phase_amplitudes,\n",
    "        \n",
    "        red_laser_params,\n",
    "        blue_laser_params,\n",
    "        \n",
    "        detuning_params,\n",
    "        decay_params;\n",
    "        parallel=false,\n",
    "        free_motion=true\n",
    "    );\n",
    "    \n",
    "Pg = real(expect(g ⊗ dagger(g), ρ_mean)); \n",
    "Pr = real(expect(r ⊗ dagger(r), ρ_mean));  "
   ]
  }
 ],
 "metadata": {
  "kernelspec": {
   "display_name": "Julia 1.11.5",
   "language": "julia",
   "name": "julia-1.11"
  },
  "language_info": {
   "file_extension": ".jl",
   "mimetype": "application/julia",
   "name": "julia",
   "version": "1.11.5"
  }
 },
 "nbformat": 4,
 "nbformat_minor": 2
}
