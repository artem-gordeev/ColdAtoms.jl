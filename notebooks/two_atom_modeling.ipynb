{
 "cells": [
  {
   "cell_type": "code",
   "execution_count": 1,
   "metadata": {},
   "outputs": [
    {
     "name": "stderr",
     "output_type": "stream",
     "text": [
      "\u001b[91m\u001b[1mERROR: \u001b[22m\u001b[39mLoadError: invalid method definition in ColdAtoms: function Base.eps must be explicitly imported to be extended\n",
      "Stacktrace:\n",
      " [1] top-level scope\n",
      "\u001b[90m   @\u001b[39m \u001b[90m\u001b[4mnone:0\u001b[24m\u001b[39m\n",
      " [2] top-level scope\n",
      "\u001b[90m   @\u001b[39m \u001b[90mc:\\Users\\А\\Documents\\GitHub\\ColdAtoms.jl\\src\\\u001b[39m\u001b[90m\u001b[4mtwo_atom_model.jl:43\u001b[24m\u001b[39m\n",
      " [3] \u001b[0m\u001b[1minclude\u001b[22m\u001b[0m\u001b[1m(\u001b[22m\u001b[90mx\u001b[39m::\u001b[0mString\u001b[0m\u001b[1m)\u001b[22m\n",
      "\u001b[90m   @\u001b[39m \u001b[35mColdAtoms\u001b[39m \u001b[90mc:\\Users\\А\\Documents\\GitHub\\ColdAtoms.jl\\src\\\u001b[39m\u001b[90m\u001b[4mColdAtoms.jl:1\u001b[24m\u001b[39m\n",
      " [4] top-level scope\n",
      "\u001b[90m   @\u001b[39m \u001b[90mc:\\Users\\А\\Documents\\GitHub\\ColdAtoms.jl\\src\\\u001b[39m\u001b[90m\u001b[4mColdAtoms.jl:35\u001b[24m\u001b[39m\n",
      " [5] top-level scope\n",
      "\u001b[90m   @\u001b[39m \u001b[90m\u001b[4mstdin:6\u001b[24m\u001b[39m\n",
      "in expression starting at c:\\Users\\А\\Documents\\GitHub\\ColdAtoms.jl\\src\\two_atom_model.jl:43\n",
      "in expression starting at c:\\Users\\А\\Documents\\GitHub\\ColdAtoms.jl\\src\\ColdAtoms.jl:1\n",
      "in expression starting at stdin:6\n"
     ]
    },
    {
     "ename": "ErrorException",
     "evalue": "Failed to precompile ColdAtoms [a4a6137b-c86d-4c79-adc4-1660e24cdd31] to \"C:\\\\Users\\\\А\\\\.julia\\\\compiled\\\\v1.11\\\\ColdAtoms\\\\jl_80FA.tmp\".",
     "output_type": "error",
     "traceback": [
      "Failed to precompile ColdAtoms [a4a6137b-c86d-4c79-adc4-1660e24cdd31] to \"C:\\\\Users\\\\А\\\\.julia\\\\compiled\\\\v1.11\\\\ColdAtoms\\\\jl_80FA.tmp\".\n",
      "\n",
      "Stacktrace:\n",
      "  [1] (::Base.var\"#1110#1111\"{Base.PkgId})()\n",
      "    @ Base .\\loading.jl:2579\n",
      "  [2] mkpidlock(f::Base.var\"#1110#1111\"{Base.PkgId}, at::String, pid::Int32; kwopts::@Kwargs{stale_age::Int64, wait::Bool})\n",
      "    @ FileWatching.Pidfile C:\\Users\\А\\AppData\\Local\\Programs\\Julia-1.11.5\\share\\julia\\stdlib\\v1.11\\FileWatching\\src\\pidfile.jl:95\n",
      "  [3] eval\n",
      "    @ .\\boot.jl:430 [inlined]\n",
      "  [4] include_string(mapexpr::typeof(REPL.softscope), mod::Module, code::String, filename::String)\n",
      "    @ Base .\\loading.jl:2734\n",
      "  [5] #invokelatest#2\n",
      "    @ .\\essentials.jl:1055 [inlined]\n",
      "  [6] invokelatest\n",
      "    @ .\\essentials.jl:1052 [inlined]\n",
      "  [7] (::VSCodeServer.var\"#219#220\"{VSCodeServer.NotebookRunCellArguments, String})()\n",
      "    @ VSCodeServer c:\\Users\\А\\.vscode\\extensions\\julialang.language-julia-1.79.2\\scripts\\packages\\VSCodeServer\\src\\serve_notebook.jl:19\n",
      "  [8] withpath(f::VSCodeServer.var\"#219#220\"{VSCodeServer.NotebookRunCellArguments, String}, path::String)\n",
      "    @ VSCodeServer c:\\Users\\А\\.vscode\\extensions\\julialang.language-julia-1.79.2\\scripts\\packages\\VSCodeServer\\src\\repl.jl:276\n",
      "  [9] notebook_runcell_request(conn::VSCodeServer.JSONRPC.JSONRPCEndpoint{Base.PipeEndpoint, Base.PipeEndpoint}, params::VSCodeServer.NotebookRunCellArguments)\n",
      "    @ VSCodeServer c:\\Users\\А\\.vscode\\extensions\\julialang.language-julia-1.79.2\\scripts\\packages\\VSCodeServer\\src\\serve_notebook.jl:13\n",
      " [10] dispatch_msg(x::VSCodeServer.JSONRPC.JSONRPCEndpoint{Base.PipeEndpoint, Base.PipeEndpoint}, dispatcher::VSCodeServer.JSONRPC.MsgDispatcher, msg::Dict{String, Any})\n",
      "    @ VSCodeServer.JSONRPC c:\\Users\\А\\.vscode\\extensions\\julialang.language-julia-1.79.2\\scripts\\packages\\JSONRPC\\src\\typed.jl:67\n",
      " [11] serve_notebook(pipename::String, outputchannel_logger::Base.CoreLogging.SimpleLogger; crashreporting_pipename::String)\n",
      "    @ VSCodeServer c:\\Users\\А\\.vscode\\extensions\\julialang.language-julia-1.79.2\\scripts\\packages\\VSCodeServer\\src\\serve_notebook.jl:139\n",
      " [12] top-level scope\n",
      "    @ c:\\Users\\А\\.vscode\\extensions\\julialang.language-julia-1.79.2\\scripts\\notebook\\notebook.jl:35"
     ]
    }
   ],
   "source": [
    "using ColdAtoms"
   ]
  },
  {
   "cell_type": "code",
   "execution_count": null,
   "metadata": {},
   "outputs": [],
   "source": [
    "t = 0.0:0.2:1.0\n",
    "eps.(t)"
   ]
  },
  {
   "cell_type": "code",
   "execution_count": 2,
   "metadata": {},
   "outputs": [
    {
     "ename": "MethodError",
     "evalue": "MethodError: no method matching eps(::Int64)\nThe function `eps` exists, but no method is defined for this combination of argument types.\n\nClosest candidates are:\n  eps(!Matched::Type{Dates.DateTime})\n   @ Dates C:\\Users\\А\\AppData\\Local\\Programs\\Julia-1.11.5\\share\\julia\\stdlib\\v1.11\\Dates\\src\\types.jl:452\n  eps(!Matched::Type{Dates.Time})\n   @ Dates C:\\Users\\А\\AppData\\Local\\Programs\\Julia-1.11.5\\share\\julia\\stdlib\\v1.11\\Dates\\src\\types.jl:454\n  eps(!Matched::Type{BigFloat})\n   @ Base mpfr.jl:1075\n  ...\n",
     "output_type": "error",
     "traceback": [
      "MethodError: no method matching eps(::Int64)\n",
      "The function `eps` exists, but no method is defined for this combination of argument types.\n",
      "\n",
      "Closest candidates are:\n",
      "  eps(!Matched::Type{Dates.DateTime})\n",
      "   @ Dates C:\\Users\\А\\AppData\\Local\\Programs\\Julia-1.11.5\\share\\julia\\stdlib\\v1.11\\Dates\\src\\types.jl:452\n",
      "  eps(!Matched::Type{Dates.Time})\n",
      "   @ Dates C:\\Users\\А\\AppData\\Local\\Programs\\Julia-1.11.5\\share\\julia\\stdlib\\v1.11\\Dates\\src\\types.jl:454\n",
      "  eps(!Matched::Type{BigFloat})\n",
      "   @ Base mpfr.jl:1075\n",
      "  ...\n",
      "\n",
      "\n",
      "Stacktrace:\n",
      " [1] top-level scope\n",
      "   @ c:\\Users\\А\\Documents\\GitHub\\ColdAtoms.jl\\notebooks\\two_atom_modeling.ipynb:1"
     ]
    }
   ],
   "source": [
    "eps(0)"
   ]
  },
  {
   "cell_type": "code",
   "execution_count": null,
   "metadata": {},
   "outputs": [],
   "source": [
    "using QuantumOptics\n",
    "include(\"../params/default.jl\")\n",
    "\n",
    "N = 1;\n",
    "T = 1 \n",
    "atom_params = [m, T]\n",
    "samples1, acc_rate1 = samples_generate(trap_params, atom_params, N; skip=5000, freq=1000);\n",
    "samples2, acc_rate2 = samples_generate(trap_params, atom_params, N; skip=5000, freq=1000);\n",
    "\n",
    "α = 0.377 \n",
    "detuning_params = [Δ0, δ_twophoton(Ωr, Ωb, Δ0) + α*Ω_twophoton(Ωr, Ωb, Δ0)];\n",
    " \n",
    "T0 = T_twophoton(Ωr, Ωb, Δ0);\n",
    "tspan = [0.0:T0/30:2*1.2*T0;];\n",
    "plus = (zero1 + g1) / sqrt(2.0)\n",
    "minus = (zero1 - g1) / sqrt(2.0) \n",
    "ψ0 = zero1 ⊗ g1 #plus ⊗ g1;\n",
    "blue_laser_params = [w_1, wb, zb];"
   ]
  },
  {
   "cell_type": "code",
   "execution_count": 9,
   "metadata": {},
   "outputs": [],
   "source": [
    "using QuantumOptics\n",
    "include(\"../params/default.jl\")\n",
    "\n",
    "N = 1;\n",
    "T = 1 \n",
    "atom_params = [m, T]\n",
    "samples1, acc_rate1 = samples_generate(trap_params, atom_params, N; skip=5000, freq=1000);\n",
    "samples2, acc_rate2 = samples_generate(trap_params, atom_params, N; skip=5000, freq=1000);\n",
    "\n",
    "α = 0.377 \n",
    "w_1 = 6.28\n",
    "detuning_params = [0.377 * w_1, 0] #[Δ0, δ_twophoton(Ωr, Ωb, Δ0) + α*Ω_twophoton(Ωr, Ωb, Δ0)];\n",
    " \n",
    "T0 = T_twophoton(Ωr, Ωb, Δ0);\n",
    "#tspan = [0.0:T0/30:2*1.2*T0;];\n",
    "tspan = [0.0:0.01:2.0;]\n",
    "plus = (zero1 + g1) / sqrt(2.0)\n",
    "minus = (zero1 - g1) / sqrt(2.0) \n",
    "ψ0 = zero1 ⊗ g1 #plus ⊗ g1;\n",
    "blue_laser_params = [w_1, wb, zb];"
   ]
  },
  {
   "cell_type": "code",
   "execution_count": 10,
   "metadata": {},
   "outputs": [],
   "source": [
    "ρ_mean, ρ2_mean = direct_CZ_simulation(tspan, ψ0, \n",
    "    atom_params,    trap_params,     \n",
    "    samples1, samples2, \n",
    "    red_laser_params,    blue_laser_params,\n",
    "    red_laser_params,    blue_laser_params,\n",
    "    detuning_params,     detuning_params,   V_rr; \n",
    "    atom_motion=true,     free_motion=true  ,   parallel=false\n",
    "    );"
   ]
  },
  {
   "cell_type": "code",
   "execution_count": 3,
   "metadata": {},
   "outputs": [],
   "source": [
    "ρ_mean, ρ2_mean = two_atom_simulation(tspan, ψ0, \n",
    "    atom_params,    trap_params,     \n",
    "    samples1, samples2, \n",
    "    red_laser_params,    blue_laser_params,\n",
    "    red_laser_params,    blue_laser_params,\n",
    "    detuning_params,     detuning_params,     decay_params, V_rr; \n",
    "    atom_motion=true,     free_motion=true,\n",
    "    spontaneous_decay=true,     parallel=false\n",
    "    );"
   ]
  },
  {
   "cell_type": "code",
   "execution_count": 11,
   "metadata": {},
   "outputs": [],
   "source": [
    "\n",
    "P1_1 = real(expect(g1 ⊗ dagger(g1) ⊗ Id, ρ_mean)); \n",
    "P1_2 = real(expect(Id ⊗ g1 ⊗ dagger(g1), ρ_mean));  \n",
    "P0_2 = real(expect(Id ⊗ zero1 ⊗ dagger(zero1), ρ_mean)); \n",
    "P0_1 = real(expect(zero1 ⊗ dagger(zero1) ⊗ Id, ρ_mean));  \n",
    "Pm_1 = real(expect(minus ⊗ dagger(minus) ⊗ Id, ρ_mean)); \n",
    "Pm_2 = real(expect(Id ⊗ minus ⊗ dagger(minus), ρ_mean));  \n",
    "Pp_2 = real(expect(Id ⊗ plus ⊗ dagger(plus), ρ_mean)); \n",
    "Pp_1 = real(expect(plus ⊗ dagger(plus) ⊗ Id, ρ_mean));  \n",
    "Pr_1 = real(expect(r1 ⊗ dagger(r1) ⊗ Id, ρ_mean));  \n",
    "Pr_2 = real(expect(Id ⊗ r1 ⊗ dagger(r1), ρ_mean)); "
   ]
  },
  {
   "cell_type": "code",
   "execution_count": 12,
   "metadata": {},
   "outputs": [
    {
     "name": "stderr",
     "output_type": "stream",
     "text": [
      "┌ Warning: Kaleido startup failed with code 1.\n",
      "└ @ PlotlyKaleido C:\\Users\\А\\.julia\\packages\\PlotlyKaleido\\jXjt6\\src\\PlotlyKaleido.jl:38\n",
      "┌ Warning: Kaleido startup failed with code 1.\n",
      "└ @ PlotlyKaleido C:\\Users\\А\\.julia\\packages\\PlotlyKaleido\\jXjt6\\src\\PlotlyKaleido.jl:38\n"
     ]
    },
    {
     "data": {
      "application/vnd.plotly.v1+json": {
       "config": {
        "editable": false,
        "responsive": true,
        "scrollZoom": true,
        "showLink": false,
        "staticPlot": false
       },
       "data": [
        {
         "mode": "lines+markers",
         "name": "P1_1",
         "type": "scatter",
         "x": [
          0,
          0.01,
          0.02,
          0.03,
          0.04,
          0.05,
          0.06,
          0.07,
          0.08,
          0.09,
          0.1,
          0.11,
          0.12,
          0.13,
          0.14,
          0.15,
          0.16,
          0.17,
          0.18,
          0.19,
          0.2,
          0.21,
          0.22,
          0.23,
          0.24,
          0.25,
          0.26,
          0.27,
          0.28,
          0.29,
          0.3,
          0.31,
          0.32,
          0.33,
          0.34,
          0.35,
          0.36,
          0.37,
          0.38,
          0.39,
          0.4,
          0.41,
          0.42,
          0.43,
          0.44,
          0.45,
          0.46,
          0.47,
          0.48,
          0.49,
          0.5,
          0.51,
          0.52,
          0.53,
          0.54,
          0.55,
          0.56,
          0.57,
          0.58,
          0.59,
          0.6,
          0.61,
          0.62,
          0.63,
          0.64,
          0.65,
          0.66,
          0.67,
          0.68,
          0.69,
          0.7,
          0.71,
          0.72,
          0.73,
          0.74,
          0.75,
          0.76,
          0.77,
          0.78,
          0.79,
          0.8,
          0.81,
          0.82,
          0.83,
          0.84,
          0.85,
          0.86,
          0.87,
          0.88,
          0.89,
          0.9,
          0.91,
          0.92,
          0.93,
          0.94,
          0.95,
          0.96,
          0.97,
          0.98,
          0.99,
          1,
          1.01,
          1.02,
          1.03,
          1.04,
          1.05,
          1.06,
          1.07,
          1.08,
          1.09,
          1.1,
          1.11,
          1.12,
          1.13,
          1.14,
          1.15,
          1.16,
          1.17,
          1.18,
          1.19,
          1.2,
          1.21,
          1.22,
          1.23,
          1.24,
          1.25,
          1.26,
          1.27,
          1.28,
          1.29,
          1.3,
          1.31,
          1.32,
          1.33,
          1.34,
          1.35,
          1.36,
          1.37,
          1.38,
          1.39,
          1.4,
          1.41,
          1.42,
          1.43,
          1.44,
          1.45,
          1.46,
          1.47,
          1.48,
          1.49,
          1.5,
          1.51,
          1.52,
          1.53,
          1.54,
          1.55,
          1.56,
          1.57,
          1.58,
          1.59,
          1.6,
          1.61,
          1.62,
          1.63,
          1.64,
          1.65,
          1.66,
          1.67,
          1.68,
          1.69,
          1.7,
          1.71,
          1.72,
          1.73,
          1.74,
          1.75,
          1.76,
          1.77,
          1.78,
          1.79,
          1.8,
          1.81,
          1.82,
          1.83,
          1.84,
          1.85,
          1.86,
          1.87,
          1.88,
          1.89,
          1.9,
          1.91,
          1.92,
          1.93,
          1.94,
          1.95,
          1.96,
          1.97,
          1.98,
          1.99,
          2
         ],
         "y": [
          1,
          0.9990144101774634,
          0.9960620779327714,
          0.99115629870975,
          0.984319154626909,
          0.9755814363436315,
          0.9649824989878072,
          0.9525700346916373,
          0.9383999384272771,
          0.9225360213844234,
          0.9050497814741817,
          0.886019855098159,
          0.8655319262287116,
          0.8436781731044269,
          0.820557255789744,
          0.7962732392690037,
          0.770935259243173,
          0.7446574053420292,
          0.7175578436620013,
          0.6897591432057972,
          0.661386454992349,
          0.6325671901126037,
          0.6034310080016942,
          0.5741087532067738,
          0.5447331059415155,
          0.5154367701575981,
          0.4863513552208428,
          0.45760737591121153,
          0.42933406456245704,
          0.40165841626781623,
          0.37470613910125106,
          0.3485988960694137,
          0.323453861456386,
          0.29938372082367976,
          0.2764964879872842,
          0.25489511436077966,
          0.23467793989553878,
          0.21593629992289856,
          0.19875427146201602,
          0.18320867321986842,
          0.16936900969928195,
          0.1572977537568788,
          0.1470500476062208,
          0.13867226367318264,
          0.13220191548975796,
          0.12766765769405963,
          0.12508948745304532,
          0.12447940901020035,
          0.12584055175293749,
          0.129166919817312,
          0.1344433949380892,
          0.14164576507437854,
          0.15074161289882926,
          0.16169014892740793,
          0.17444223666068848,
          0.18894060981131713,
          0.2051198723040126,
          0.2229068615094374,
          0.2422216946828944,
          0.26297716170860186,
          0.28507998056962874,
          0.3084308901655819,
          0.332924650312606,
          0.3584509860508188,
          0.3848948586117963,
          0.41213673591254374,
          0.44005419187503797,
          0.4685219133909768,
          0.497411707082945,
          0.526593852296159,
          0.5559363538727566,
          0.5853065033037487,
          0.6145723159462754,
          0.6436025310236061,
          0.6722666191316318,
          0.7004359803665323,
          0.7279829921313771,
          0.7547828771081856,
          0.7807151429363535,
          0.8056635822126518,
          0.8295162729633148,
          0.8521662058263294,
          0.8735106695020863,
          0.8934528490729359,
          0.9119030382285293,
          0.9287786392658192,
          0.9440041692094663,
          0.9575112554784974,
          0.9692383881181486,
          0.9791324117601685,
          0.9871488950128067,
          0.993252130460814,
          0.9974149559317061,
          0.9996182890730404,
          0.9998520494726976,
          0.9981152212796072,
          0.99441579458712,
          0.9887703836011953,
          0.9812043237523012,
          0.9717516460538193,
          0.9604550093418,
          0.9473652743845763,
          0.9325414211954288,
          0.91605007545996,
          0.8979654322099544,
          0.878369063575342,
          0.8573491385392867,
          0.8350005370695813,
          0.8114237356376396,
          0.7867247039949479,
          0.7610147250583155,
          0.7344093966169292,
          0.7070290815386461,
          0.6789970276015447,
          0.6504390954269025,
          0.6214837584791996,
          0.5922611250413371,
          0.5629032282003646,
          0.5335428419816618,
          0.5043119256085282,
          0.4753416233959725,
          0.4467622058502891,
          0.4187018874528782,
          0.3912880040677305,
          0.3646445208329575,
          0.33889112291583956,
          0.3141432155128256,
          0.2905118710641716,
          0.26810310616997673,
          0.2470188435277053,
          0.22735456390390607,
          0.20919861854405405,
          0.1926322291725507,
          0.17772946731356734,
          0.16455725380027753,
          0.15317572350399788,
          0.1436365368055528,
          0.13598254487004802,
          0.13024778964687056,
          0.12645755577412995,
          0.12462906436856534,
          0.12477103117408715,
          0.12688303575671908,
          0.13095551655676155,
          0.13696977088879178,
          0.14489843087822762,
          0.15470606680391474,
          0.16634864628397475,
          0.17977392515374424,
          0.1949214516123283,
          0.21172264986367484,
          0.23010204564404083,
          0.2499766868007656,
          0.2712571401859248,
          0.2938478613781732,
          0.31764719468274505,
          0.34254774738677185,
          0.36843764478159163,
          0.39519970754253325,
          0.42271350102408306,
          0.45085553488302765,
          0.47949926307845414,
          0.508515750972763,
          0.5377743743842676,
          0.567142498810474,
          0.5964879430051494,
          0.6256790675821339,
          0.6545847750153396,
          0.6830751383542161,
          0.7110217658505232,
          0.7382977485188215,
          0.7647802187216342,
          0.7903504304921558,
          0.8148937595342518,
          0.8383000339268358,
          0.8604636667671433,
          0.8812838762393482,
          0.9006667898448273,
          0.9185255310869267,
          0.9347802194709625,
          0.9493580344614697,
          0.9621928727031771,
          0.97322637064242,
          0.9824088299786171,
          0.9896992272020152,
          0.9950651752949962,
          0.9984823551461246,
          0.9999351041750665,
          0.9994168545602455,
          0.996930088298211,
          0.9924860620453074,
          0.9861046815274807,
          0.9778146153140652,
          0.9676532474095793,
          0.9556663826764771,
          0.9419080166267948,
          0.9264400369884717,
          0.909331974618347,
          0.8906609909907484,
          0.8705112281676521,
          0.8489733379606219
         ]
        },
        {
         "mode": "lines+markers",
         "name": "P0_1",
         "type": "scatter",
         "x": [
          0,
          0.01,
          0.02,
          0.03,
          0.04,
          0.05,
          0.06,
          0.07,
          0.08,
          0.09,
          0.1,
          0.11,
          0.12,
          0.13,
          0.14,
          0.15,
          0.16,
          0.17,
          0.18,
          0.19,
          0.2,
          0.21,
          0.22,
          0.23,
          0.24,
          0.25,
          0.26,
          0.27,
          0.28,
          0.29,
          0.3,
          0.31,
          0.32,
          0.33,
          0.34,
          0.35,
          0.36,
          0.37,
          0.38,
          0.39,
          0.4,
          0.41,
          0.42,
          0.43,
          0.44,
          0.45,
          0.46,
          0.47,
          0.48,
          0.49,
          0.5,
          0.51,
          0.52,
          0.53,
          0.54,
          0.55,
          0.56,
          0.57,
          0.58,
          0.59,
          0.6,
          0.61,
          0.62,
          0.63,
          0.64,
          0.65,
          0.66,
          0.67,
          0.68,
          0.69,
          0.7,
          0.71,
          0.72,
          0.73,
          0.74,
          0.75,
          0.76,
          0.77,
          0.78,
          0.79,
          0.8,
          0.81,
          0.82,
          0.83,
          0.84,
          0.85,
          0.86,
          0.87,
          0.88,
          0.89,
          0.9,
          0.91,
          0.92,
          0.93,
          0.94,
          0.95,
          0.96,
          0.97,
          0.98,
          0.99,
          1,
          1.01,
          1.02,
          1.03,
          1.04,
          1.05,
          1.06,
          1.07,
          1.08,
          1.09,
          1.1,
          1.11,
          1.12,
          1.13,
          1.14,
          1.15,
          1.16,
          1.17,
          1.18,
          1.19,
          1.2,
          1.21,
          1.22,
          1.23,
          1.24,
          1.25,
          1.26,
          1.27,
          1.28,
          1.29,
          1.3,
          1.31,
          1.32,
          1.33,
          1.34,
          1.35,
          1.36,
          1.37,
          1.38,
          1.39,
          1.4,
          1.41,
          1.42,
          1.43,
          1.44,
          1.45,
          1.46,
          1.47,
          1.48,
          1.49,
          1.5,
          1.51,
          1.52,
          1.53,
          1.54,
          1.55,
          1.56,
          1.57,
          1.58,
          1.59,
          1.6,
          1.61,
          1.62,
          1.63,
          1.64,
          1.65,
          1.66,
          1.67,
          1.68,
          1.69,
          1.7,
          1.71,
          1.72,
          1.73,
          1.74,
          1.75,
          1.76,
          1.77,
          1.78,
          1.79,
          1.8,
          1.81,
          1.82,
          1.83,
          1.84,
          1.85,
          1.86,
          1.87,
          1.88,
          1.89,
          1.9,
          1.91,
          1.92,
          1.93,
          1.94,
          1.95,
          1.96,
          1.97,
          1.98,
          1.99,
          2
         ],
         "y": [
          0,
          0.000985589822536544,
          0.003937922067228569,
          0.008843701290250017,
          0.015680845373090932,
          0.024418563656368443,
          0.035017501012192795,
          0.04742996530836267,
          0.0616000615727228,
          0.07746397861557662,
          0.09495021852581828,
          0.11398014490184101,
          0.1344680737712885,
          0.15632182689557306,
          0.17944274421025602,
          0.2037267607309963,
          0.229064740756827,
          0.2553425946579708,
          0.2824421563379988,
          0.31024085679420277,
          0.3386135450076509,
          0.36743280988739635,
          0.3965689919983057,
          0.4258912467932262,
          0.45526689405848453,
          0.4845632298424018,
          0.5136486447791572,
          0.5423926240887884,
          0.570665935437543,
          0.5983415837321837,
          0.6252938608987488,
          0.6514011039305863,
          0.6765461385436139,
          0.7006162791763202,
          0.7235035120127157,
          0.7451048856392203,
          0.7653220601044611,
          0.7840637000771014,
          0.8012457285379839,
          0.8167913267801316,
          0.830630990300718,
          0.8427022462431212,
          0.8529499523937791,
          0.8613277363268173,
          0.867798084510242,
          0.8723323423059403,
          0.8749105125469546,
          0.8755205909897995,
          0.8741594482470624,
          0.8708330801826879,
          0.8655566050619107,
          0.8583542349256214,
          0.8492583871011706,
          0.8383098510725919,
          0.8255577633393114,
          0.8110593901886828,
          0.7948801276959873,
          0.7770931384905625,
          0.7577783053171054,
          0.737022838291398,
          0.7149200194303711,
          0.691569109834418,
          0.6670753496873939,
          0.6415490139491811,
          0.6151051413882036,
          0.5878632640874561,
          0.559945808124962,
          0.5314780866090231,
          0.5025882929170549,
          0.4734061477038409,
          0.44406364612724325,
          0.41469349669625116,
          0.3854276840537245,
          0.3563974689763938,
          0.32773338086836806,
          0.2995640196334675,
          0.2720170078686228,
          0.24521712289181427,
          0.21928485706364648,
          0.19433641778734806,
          0.1704837270366851,
          0.14783379417367046,
          0.12648933049791353,
          0.10654715092706396,
          0.08809696177147065,
          0.07122136073418074,
          0.055995830790533586,
          0.04248874452150252,
          0.030761611881851253,
          0.02086758823983135,
          0.012851104987193157,
          0.006747869539185875,
          0.002585044068293686,
          0.0003817109269594804,
          0.00014795052730228223,
          0.0018847787203926311,
          0.005584205412879787,
          0.011229616398804449,
          0.018795676247698605,
          0.02824835394618058,
          0.03954499065819981,
          0.052634725615423476,
          0.06745857880457094,
          0.08394992454003977,
          0.10203456779004534,
          0.12163093642465778,
          0.142650861460713,
          0.16499946293041845,
          0.1885762643623602,
          0.21327529600505185,
          0.23898527494168434,
          0.26559060338307067,
          0.29297091846135376,
          0.3210029723984551,
          0.34956090457309724,
          0.3785162415208002,
          0.4077388749586626,
          0.4370967717996352,
          0.4664571580183379,
          0.49568807439147156,
          0.5246583766040273,
          0.5532377941497107,
          0.5812981125471216,
          0.6087119959322693,
          0.6353554791670423,
          0.6611088770841602,
          0.6858567844871742,
          0.7094881289358282,
          0.731896893830023,
          0.7529811564722945,
          0.7726454360960937,
          0.7908013814559457,
          0.807367770827449,
          0.8222705326864324,
          0.8354427461997221,
          0.8468242764960019,
          0.8563634631944469,
          0.8640174551299518,
          0.8697522103531292,
          0.8735424442258698,
          0.8753709356314344,
          0.8752289688259126,
          0.8731169642432807,
          0.8690444834432383,
          0.863030229111208,
          0.855101569121772,
          0.8452939331960849,
          0.833651353716025,
          0.8202260748462555,
          0.8050785483876715,
          0.7882773501363249,
          0.7698979543559589,
          0.7500233131992341,
          0.7287428598140749,
          0.7061521386218266,
          0.6823528053172546,
          0.6574522526132279,
          0.6315623552184081,
          0.6048002924574665,
          0.5772864989759167,
          0.549144465116972,
          0.5205007369215456,
          0.4914842490272367,
          0.46222562561573216,
          0.4328575011895257,
          0.40351205699485027,
          0.37432093241786585,
          0.3454152249846601,
          0.31692486164578365,
          0.2889782341494764,
          0.2617022514811782,
          0.23521978127836551,
          0.2096495695078439,
          0.18510624046574786,
          0.16169996607316375,
          0.13953633323285639,
          0.11871612376065142,
          0.0993332101551724,
          0.08147446891307299,
          0.06521978052903715,
          0.05064196553852998,
          0.03780712729682257,
          0.026773629357579706,
          0.017591170021382545,
          0.010300772797984479,
          0.004934824705003533,
          0.0015176448538750465,
          0.0000648958249332201,
          0.0005831454397541697,
          0.0030699117017887866,
          0.007513937954692256,
          0.013895318472519099,
          0.022185384685934485,
          0.03234675259042042,
          0.04433361732352269,
          0.05809198337320496,
          0.07355996301152809,
          0.09066802538165272,
          0.10933900900925139,
          0.1294887718323476,
          0.15102666203937784
         ]
        }
       ],
       "frames": [],
       "layout": {
        "margin": {
         "b": 50,
         "l": 50,
         "r": 50,
         "t": 60
        },
        "template": {
         "data": {
          "bar": [
           {
            "error_x": {
             "color": "#2a3f5f"
            },
            "error_y": {
             "color": "#2a3f5f"
            },
            "marker": {
             "line": {
              "color": "#E5ECF6",
              "width": 0.5
             }
            },
            "type": "bar"
           }
          ],
          "barpolar": [
           {
            "marker": {
             "line": {
              "color": "#E5ECF6",
              "width": 0.5
             }
            },
            "type": "barpolar"
           }
          ],
          "carpet": [
           {
            "aaxis": {
             "endlinecolor": "#2a3f5f",
             "gridcolor": "white",
             "linecolor": "white",
             "minorgridcolor": "white",
             "startlinecolor": "#2a3f5f"
            },
            "baxis": {
             "endlinecolor": "#2a3f5f",
             "gridcolor": "white",
             "linecolor": "white",
             "minorgridcolor": "white",
             "startlinecolor": "#2a3f5f"
            },
            "type": "carpet"
           }
          ],
          "choropleth": [
           {
            "colorbar": {
             "outlinewidth": 0,
             "ticks": ""
            },
            "type": "choropleth"
           }
          ],
          "contour": [
           {
            "colorbar": {
             "outlinewidth": 0,
             "ticks": ""
            },
            "colorscale": [
             [
              0,
              "#0d0887"
             ],
             [
              0.1111111111111111,
              "#46039f"
             ],
             [
              0.2222222222222222,
              "#7201a8"
             ],
             [
              0.3333333333333333,
              "#9c179e"
             ],
             [
              0.4444444444444444,
              "#bd3786"
             ],
             [
              0.5555555555555556,
              "#d8576b"
             ],
             [
              0.6666666666666666,
              "#ed7953"
             ],
             [
              0.7777777777777778,
              "#fb9f3a"
             ],
             [
              0.8888888888888888,
              "#fdca26"
             ],
             [
              1,
              "#f0f921"
             ]
            ],
            "type": "contour"
           }
          ],
          "contourcarpet": [
           {
            "colorbar": {
             "outlinewidth": 0,
             "ticks": ""
            },
            "type": "contourcarpet"
           }
          ],
          "heatmap": [
           {
            "colorbar": {
             "outlinewidth": 0,
             "ticks": ""
            },
            "colorscale": [
             [
              0,
              "#0d0887"
             ],
             [
              0.1111111111111111,
              "#46039f"
             ],
             [
              0.2222222222222222,
              "#7201a8"
             ],
             [
              0.3333333333333333,
              "#9c179e"
             ],
             [
              0.4444444444444444,
              "#bd3786"
             ],
             [
              0.5555555555555556,
              "#d8576b"
             ],
             [
              0.6666666666666666,
              "#ed7953"
             ],
             [
              0.7777777777777778,
              "#fb9f3a"
             ],
             [
              0.8888888888888888,
              "#fdca26"
             ],
             [
              1,
              "#f0f921"
             ]
            ],
            "type": "heatmap"
           }
          ],
          "heatmapgl": [
           {
            "colorbar": {
             "outlinewidth": 0,
             "ticks": ""
            },
            "colorscale": [
             [
              0,
              "#0d0887"
             ],
             [
              0.1111111111111111,
              "#46039f"
             ],
             [
              0.2222222222222222,
              "#7201a8"
             ],
             [
              0.3333333333333333,
              "#9c179e"
             ],
             [
              0.4444444444444444,
              "#bd3786"
             ],
             [
              0.5555555555555556,
              "#d8576b"
             ],
             [
              0.6666666666666666,
              "#ed7953"
             ],
             [
              0.7777777777777778,
              "#fb9f3a"
             ],
             [
              0.8888888888888888,
              "#fdca26"
             ],
             [
              1,
              "#f0f921"
             ]
            ],
            "type": "heatmapgl"
           }
          ],
          "histogram": [
           {
            "marker": {
             "colorbar": {
              "outlinewidth": 0,
              "ticks": ""
             }
            },
            "type": "histogram"
           }
          ],
          "histogram2d": [
           {
            "colorbar": {
             "outlinewidth": 0,
             "ticks": ""
            },
            "colorscale": [
             [
              0,
              "#0d0887"
             ],
             [
              0.1111111111111111,
              "#46039f"
             ],
             [
              0.2222222222222222,
              "#7201a8"
             ],
             [
              0.3333333333333333,
              "#9c179e"
             ],
             [
              0.4444444444444444,
              "#bd3786"
             ],
             [
              0.5555555555555556,
              "#d8576b"
             ],
             [
              0.6666666666666666,
              "#ed7953"
             ],
             [
              0.7777777777777778,
              "#fb9f3a"
             ],
             [
              0.8888888888888888,
              "#fdca26"
             ],
             [
              1,
              "#f0f921"
             ]
            ],
            "type": "histogram2d"
           }
          ],
          "histogram2dcontour": [
           {
            "colorbar": {
             "outlinewidth": 0,
             "ticks": ""
            },
            "colorscale": [
             [
              0,
              "#0d0887"
             ],
             [
              0.1111111111111111,
              "#46039f"
             ],
             [
              0.2222222222222222,
              "#7201a8"
             ],
             [
              0.3333333333333333,
              "#9c179e"
             ],
             [
              0.4444444444444444,
              "#bd3786"
             ],
             [
              0.5555555555555556,
              "#d8576b"
             ],
             [
              0.6666666666666666,
              "#ed7953"
             ],
             [
              0.7777777777777778,
              "#fb9f3a"
             ],
             [
              0.8888888888888888,
              "#fdca26"
             ],
             [
              1,
              "#f0f921"
             ]
            ],
            "type": "histogram2dcontour"
           }
          ],
          "mesh3d": [
           {
            "colorbar": {
             "outlinewidth": 0,
             "ticks": ""
            },
            "type": "mesh3d"
           }
          ],
          "parcoords": [
           {
            "line": {
             "colorbar": {
              "outlinewidth": 0,
              "ticks": ""
             }
            },
            "type": "parcoords"
           }
          ],
          "pie": [
           {
            "automargin": true,
            "type": "pie"
           }
          ],
          "scatter": [
           {
            "marker": {
             "colorbar": {
              "outlinewidth": 0,
              "ticks": ""
             }
            },
            "type": "scatter"
           }
          ],
          "scatter3d": [
           {
            "line": {
             "colorbar": {
              "outlinewidth": 0,
              "ticks": ""
             }
            },
            "marker": {
             "colorbar": {
              "outlinewidth": 0,
              "ticks": ""
             }
            },
            "type": "scatter3d"
           }
          ],
          "scattercarpet": [
           {
            "marker": {
             "colorbar": {
              "outlinewidth": 0,
              "ticks": ""
             }
            },
            "type": "scattercarpet"
           }
          ],
          "scattergeo": [
           {
            "marker": {
             "colorbar": {
              "outlinewidth": 0,
              "ticks": ""
             }
            },
            "type": "scattergeo"
           }
          ],
          "scattergl": [
           {
            "marker": {
             "colorbar": {
              "outlinewidth": 0,
              "ticks": ""
             }
            },
            "type": "scattergl"
           }
          ],
          "scattermapbox": [
           {
            "marker": {
             "colorbar": {
              "outlinewidth": 0,
              "ticks": ""
             }
            },
            "type": "scattermapbox"
           }
          ],
          "scatterpolar": [
           {
            "marker": {
             "colorbar": {
              "outlinewidth": 0,
              "ticks": ""
             }
            },
            "type": "scatterpolar"
           }
          ],
          "scatterpolargl": [
           {
            "marker": {
             "colorbar": {
              "outlinewidth": 0,
              "ticks": ""
             }
            },
            "type": "scatterpolargl"
           }
          ],
          "scatterternary": [
           {
            "marker": {
             "colorbar": {
              "outlinewidth": 0,
              "ticks": ""
             }
            },
            "type": "scatterternary"
           }
          ],
          "surface": [
           {
            "colorbar": {
             "outlinewidth": 0,
             "ticks": ""
            },
            "colorscale": [
             [
              0,
              "#0d0887"
             ],
             [
              0.1111111111111111,
              "#46039f"
             ],
             [
              0.2222222222222222,
              "#7201a8"
             ],
             [
              0.3333333333333333,
              "#9c179e"
             ],
             [
              0.4444444444444444,
              "#bd3786"
             ],
             [
              0.5555555555555556,
              "#d8576b"
             ],
             [
              0.6666666666666666,
              "#ed7953"
             ],
             [
              0.7777777777777778,
              "#fb9f3a"
             ],
             [
              0.8888888888888888,
              "#fdca26"
             ],
             [
              1,
              "#f0f921"
             ]
            ],
            "type": "surface"
           }
          ],
          "table": [
           {
            "cells": {
             "fill": {
              "color": "#EBF0F8"
             },
             "line": {
              "color": "white"
             }
            },
            "header": {
             "fill": {
              "color": "#C8D4E3"
             },
             "line": {
              "color": "white"
             }
            },
            "type": "table"
           }
          ]
         },
         "layout": {
          "annotationdefaults": {
           "arrowcolor": "#2a3f5f",
           "arrowhead": 0,
           "arrowwidth": 1
          },
          "autotypenumbers": "strict",
          "coloraxis": {
           "colorbar": {
            "outlinewidth": 0,
            "ticks": ""
           }
          },
          "colorscale": {
           "diverging": [
            [
             0,
             "#8e0152"
            ],
            [
             0.1,
             "#c51b7d"
            ],
            [
             0.2,
             "#de77ae"
            ],
            [
             0.3,
             "#f1b6da"
            ],
            [
             0.4,
             "#fde0ef"
            ],
            [
             0.5,
             "#f7f7f7"
            ],
            [
             0.6,
             "#e6f5d0"
            ],
            [
             0.7,
             "#b8e186"
            ],
            [
             0.8,
             "#7fbc41"
            ],
            [
             0.9,
             "#4d9221"
            ],
            [
             1,
             "#276419"
            ]
           ],
           "sequential": [
            [
             0,
             "#0d0887"
            ],
            [
             0.1111111111111111,
             "#46039f"
            ],
            [
             0.2222222222222222,
             "#7201a8"
            ],
            [
             0.3333333333333333,
             "#9c179e"
            ],
            [
             0.4444444444444444,
             "#bd3786"
            ],
            [
             0.5555555555555556,
             "#d8576b"
            ],
            [
             0.6666666666666666,
             "#ed7953"
            ],
            [
             0.7777777777777778,
             "#fb9f3a"
            ],
            [
             0.8888888888888888,
             "#fdca26"
            ],
            [
             1,
             "#f0f921"
            ]
           ],
           "sequentialminus": [
            [
             0,
             "#0d0887"
            ],
            [
             0.1111111111111111,
             "#46039f"
            ],
            [
             0.2222222222222222,
             "#7201a8"
            ],
            [
             0.3333333333333333,
             "#9c179e"
            ],
            [
             0.4444444444444444,
             "#bd3786"
            ],
            [
             0.5555555555555556,
             "#d8576b"
            ],
            [
             0.6666666666666666,
             "#ed7953"
            ],
            [
             0.7777777777777778,
             "#fb9f3a"
            ],
            [
             0.8888888888888888,
             "#fdca26"
            ],
            [
             1,
             "#f0f921"
            ]
           ]
          },
          "colorway": [
           "#636efa",
           "#EF553B",
           "#00cc96",
           "#ab63fa",
           "#FFA15A",
           "#19d3f3",
           "#FF6692",
           "#B6E880",
           "#FF97FF",
           "#FECB52"
          ],
          "font": {
           "color": "#2a3f5f"
          },
          "geo": {
           "bgcolor": "white",
           "lakecolor": "white",
           "landcolor": "#E5ECF6",
           "showlakes": true,
           "showland": true,
           "subunitcolor": "white"
          },
          "hoverlabel": {
           "align": "left"
          },
          "hovermode": "closest",
          "mapbox": {
           "style": "light"
          },
          "paper_bgcolor": "white",
          "plot_bgcolor": "#E5ECF6",
          "polar": {
           "angularaxis": {
            "gridcolor": "white",
            "linecolor": "white",
            "ticks": ""
           },
           "bgcolor": "#E5ECF6",
           "radialaxis": {
            "gridcolor": "white",
            "linecolor": "white",
            "ticks": ""
           }
          },
          "scene": {
           "xaxis": {
            "backgroundcolor": "#E5ECF6",
            "gridcolor": "white",
            "gridwidth": 2,
            "linecolor": "white",
            "showbackground": true,
            "ticks": "",
            "zerolinecolor": "white"
           },
           "yaxis": {
            "backgroundcolor": "#E5ECF6",
            "gridcolor": "white",
            "gridwidth": 2,
            "linecolor": "white",
            "showbackground": true,
            "ticks": "",
            "zerolinecolor": "white"
           },
           "zaxis": {
            "backgroundcolor": "#E5ECF6",
            "gridcolor": "white",
            "gridwidth": 2,
            "linecolor": "white",
            "showbackground": true,
            "ticks": "",
            "zerolinecolor": "white"
           }
          },
          "shapedefaults": {
           "line": {
            "color": "#2a3f5f"
           }
          },
          "ternary": {
           "aaxis": {
            "gridcolor": "white",
            "linecolor": "white",
            "ticks": ""
           },
           "baxis": {
            "gridcolor": "white",
            "linecolor": "white",
            "ticks": ""
           },
           "bgcolor": "#E5ECF6",
           "caxis": {
            "gridcolor": "white",
            "linecolor": "white",
            "ticks": ""
           }
          },
          "title": {
           "x": 0.05
          },
          "xaxis": {
           "automargin": true,
           "gridcolor": "white",
           "linecolor": "white",
           "ticks": "",
           "title": {
            "standoff": 15
           },
           "zerolinecolor": "white",
           "zerolinewidth": 2
          },
          "yaxis": {
           "automargin": true,
           "gridcolor": "white",
           "linecolor": "white",
           "ticks": "",
           "title": {
            "standoff": 15
           },
           "zerolinecolor": "white",
           "zerolinewidth": 2
          }
         }
        },
        "xaxis": {
         "title": {
          "text": "t"
         }
        },
        "yaxis": {
         "title": {
          "text": "P"
         }
        }
       }
      },
      "text/html": [
       "<div\n",
       "    class=\"webio-mountpoint\"\n",
       "    data-webio-mountpoint=\"1194573581274266864\"\n",
       ">\n",
       "    <script>\n",
       "    (function(){\n",
       "    // Some integrations (namely, IJulia/Jupyter) use an alternate render pathway than\n",
       "    // just putting the html on the page. If WebIO isn't defined, then it's pretty likely\n",
       "    // that we're in one of those situations and the integration just isn't installed\n",
       "    // correctly.\n",
       "    if (typeof window.WebIO === \"undefined\") {\n",
       "        document\n",
       "            .querySelector('[data-webio-mountpoint=\"1194573581274266864\"]')\n",
       "            .innerHTML = (\n",
       "                '<div style=\"padding: 1em; background-color: #f8d6da; border: 1px solid #f5c6cb; font-weight: bold;\">' +\n",
       "                '<p><strong>WebIO not detected.</strong></p>' +\n",
       "                '<p>Please read ' +\n",
       "                '<a href=\"https://juliagizmos.github.io/WebIO.jl/latest/troubleshooting/not-detected/\" target=\"_blank\">the troubleshooting guide</a> ' +\n",
       "                'for more information on how to resolve this issue.</p>' +\n",
       "                '<p><a href=\"https://juliagizmos.github.io/WebIO.jl/latest/troubleshooting/not-detected/\" target=\"_blank\">https://juliagizmos.github.io/WebIO.jl/latest/troubleshooting/not-detected/</a></p>' +\n",
       "                '</div>'\n",
       "            );\n",
       "        return;\n",
       "    }\n",
       "    WebIO.mount(\n",
       "        document.querySelector('[data-webio-mountpoint=\"1194573581274266864\"]'),\n",
       "        {\"props\":{},\"nodeType\":\"Scope\",\"type\":\"node\",\"instanceArgs\":{\"imports\":{\"data\":[{\"name\":\"Plotly\",\"type\":\"js\",\"url\":\"\\/assetserver\\/7902f3f6b090f0fa2e81c169a2fb8c366a40d028-plotly.min.js\"},{\"name\":null,\"type\":\"js\",\"url\":\"\\/assetserver\\/e47824ec79264c4348ebcb364c15ce844fc6ae7d-plotly_webio.bundle.js\"}],\"type\":\"async_block\"},\"id\":\"5533058425122352045\",\"handlers\":{\"_toImage\":[\"(function (options){return this.Plotly.toImage(this.plotElem,options).then((function (data){return WebIO.setval({\\\"name\\\":\\\"image\\\",\\\"scope\\\":\\\"5533058425122352045\\\",\\\"id\\\":\\\"15\\\",\\\"type\\\":\\\"observable\\\"},data)}))})\"],\"__get_gd_contents\":[\"(function (prop){prop==\\\"data\\\" ? (WebIO.setval({\\\"name\\\":\\\"__gd_contents\\\",\\\"scope\\\":\\\"5533058425122352045\\\",\\\"id\\\":\\\"16\\\",\\\"type\\\":\\\"observable\\\"},this.plotElem.data)) : undefined; return prop==\\\"layout\\\" ? (WebIO.setval({\\\"name\\\":\\\"__gd_contents\\\",\\\"scope\\\":\\\"5533058425122352045\\\",\\\"id\\\":\\\"16\\\",\\\"type\\\":\\\"observable\\\"},this.plotElem.layout)) : undefined})\"],\"_downloadImage\":[\"(function (options){return this.Plotly.downloadImage(this.plotElem,options)})\"],\"_commands\":[\"(function (args){var fn=args.shift(); var elem=this.plotElem; var Plotly=this.Plotly; args.unshift(elem); return Plotly[fn].apply(this,args)})\"]},\"systemjs_options\":null,\"mount_callbacks\":[\"function () {\\n    var handler = ((function (Plotly,PlotlyWebIO){PlotlyWebIO.init(WebIO); var gd=this.dom.querySelector(\\\"#plot-de219b90-fb96-46bb-95a6-0378aa4271c5\\\"); this.plotElem=gd; this.Plotly=Plotly; (window.Blink!==undefined) ? (gd.style.width=\\\"100%\\\", gd.style.height=\\\"100vh\\\", gd.style.marginLeft=\\\"0%\\\", gd.style.marginTop=\\\"0vh\\\") : undefined; window.onresize=(function (){return Plotly.Plots.resize(gd)}); Plotly.newPlot(gd,[{\\\"mode\\\":\\\"lines+markers\\\",\\\"y\\\":[1.0,0.9990144101774634,0.9960620779327714,0.99115629870975,0.984319154626909,0.9755814363436315,0.9649824989878072,0.9525700346916373,0.9383999384272771,0.9225360213844234,0.9050497814741817,0.886019855098159,0.8655319262287116,0.8436781731044269,0.820557255789744,0.7962732392690037,0.770935259243173,0.7446574053420292,0.7175578436620013,0.6897591432057972,0.661386454992349,0.6325671901126037,0.6034310080016942,0.5741087532067738,0.5447331059415155,0.5154367701575981,0.4863513552208428,0.45760737591121153,0.42933406456245704,0.40165841626781623,0.37470613910125106,0.3485988960694137,0.323453861456386,0.29938372082367976,0.2764964879872842,0.25489511436077966,0.23467793989553878,0.21593629992289856,0.19875427146201602,0.18320867321986842,0.16936900969928195,0.1572977537568788,0.1470500476062208,0.13867226367318264,0.13220191548975796,0.12766765769405963,0.12508948745304532,0.12447940901020035,0.12584055175293749,0.129166919817312,0.1344433949380892,0.14164576507437854,0.15074161289882926,0.16169014892740793,0.17444223666068848,0.18894060981131713,0.2051198723040126,0.2229068615094374,0.2422216946828944,0.26297716170860186,0.28507998056962874,0.3084308901655819,0.332924650312606,0.3584509860508188,0.3848948586117963,0.41213673591254374,0.44005419187503797,0.4685219133909768,0.497411707082945,0.526593852296159,0.5559363538727566,0.5853065033037487,0.6145723159462754,0.6436025310236061,0.6722666191316318,0.7004359803665323,0.7279829921313771,0.7547828771081856,0.7807151429363535,0.8056635822126518,0.8295162729633148,0.8521662058263294,0.8735106695020863,0.8934528490729359,0.9119030382285293,0.9287786392658192,0.9440041692094663,0.9575112554784974,0.9692383881181486,0.9791324117601685,0.9871488950128067,0.993252130460814,0.9974149559317061,0.9996182890730404,0.9998520494726976,0.9981152212796072,0.99441579458712,0.9887703836011953,0.9812043237523012,0.9717516460538193,0.9604550093418,0.9473652743845763,0.9325414211954288,0.91605007545996,0.8979654322099544,0.878369063575342,0.8573491385392867,0.8350005370695813,0.8114237356376396,0.7867247039949479,0.7610147250583155,0.7344093966169292,0.7070290815386461,0.6789970276015447,0.6504390954269025,0.6214837584791996,0.5922611250413371,0.5629032282003646,0.5335428419816618,0.5043119256085282,0.4753416233959725,0.4467622058502891,0.4187018874528782,0.3912880040677305,0.3646445208329575,0.33889112291583956,0.3141432155128256,0.2905118710641716,0.26810310616997673,0.2470188435277053,0.22735456390390607,0.20919861854405405,0.1926322291725507,0.17772946731356734,0.16455725380027753,0.15317572350399788,0.1436365368055528,0.13598254487004802,0.13024778964687056,0.12645755577412995,0.12462906436856534,0.12477103117408715,0.12688303575671908,0.13095551655676155,0.13696977088879178,0.14489843087822762,0.15470606680391474,0.16634864628397475,0.17977392515374424,0.1949214516123283,0.21172264986367484,0.23010204564404083,0.2499766868007656,0.2712571401859248,0.2938478613781732,0.31764719468274505,0.34254774738677185,0.36843764478159163,0.39519970754253325,0.42271350102408306,0.45085553488302765,0.47949926307845414,0.508515750972763,0.5377743743842676,0.567142498810474,0.5964879430051494,0.6256790675821339,0.6545847750153396,0.6830751383542161,0.7110217658505232,0.7382977485188215,0.7647802187216342,0.7903504304921558,0.8148937595342518,0.8383000339268358,0.8604636667671433,0.8812838762393482,0.9006667898448273,0.9185255310869267,0.9347802194709625,0.9493580344614697,0.9621928727031771,0.97322637064242,0.9824088299786171,0.9896992272020152,0.9950651752949962,0.9984823551461246,0.9999351041750665,0.9994168545602455,0.996930088298211,0.9924860620453074,0.9861046815274807,0.9778146153140652,0.9676532474095793,0.9556663826764771,0.9419080166267948,0.9264400369884717,0.909331974618347,0.8906609909907484,0.8705112281676521,0.8489733379606219],\\\"type\\\":\\\"scatter\\\",\\\"name\\\":\\\"P1_1\\\",\\\"x\\\":[0.0,0.01,0.02,0.03,0.04,0.05,0.06,0.07,0.08,0.09,0.1,0.11,0.12,0.13,0.14,0.15,0.16,0.17,0.18,0.19,0.2,0.21,0.22,0.23,0.24,0.25,0.26,0.27,0.28,0.29,0.3,0.31,0.32,0.33,0.34,0.35,0.36,0.37,0.38,0.39,0.4,0.41,0.42,0.43,0.44,0.45,0.46,0.47,0.48,0.49,0.5,0.51,0.52,0.53,0.54,0.55,0.56,0.57,0.58,0.59,0.6,0.61,0.62,0.63,0.64,0.65,0.66,0.67,0.68,0.69,0.7,0.71,0.72,0.73,0.74,0.75,0.76,0.77,0.78,0.79,0.8,0.81,0.82,0.83,0.84,0.85,0.86,0.87,0.88,0.89,0.9,0.91,0.92,0.93,0.94,0.95,0.96,0.97,0.98,0.99,1.0,1.01,1.02,1.03,1.04,1.05,1.06,1.07,1.08,1.09,1.1,1.11,1.12,1.13,1.14,1.15,1.16,1.17,1.18,1.19,1.2,1.21,1.22,1.23,1.24,1.25,1.26,1.27,1.28,1.29,1.3,1.31,1.32,1.33,1.34,1.35,1.36,1.37,1.38,1.39,1.4,1.41,1.42,1.43,1.44,1.45,1.46,1.47,1.48,1.49,1.5,1.51,1.52,1.53,1.54,1.55,1.56,1.57,1.58,1.59,1.6,1.61,1.62,1.63,1.64,1.65,1.66,1.67,1.68,1.69,1.7,1.71,1.72,1.73,1.74,1.75,1.76,1.77,1.78,1.79,1.8,1.81,1.82,1.83,1.84,1.85,1.86,1.87,1.88,1.89,1.9,1.91,1.92,1.93,1.94,1.95,1.96,1.97,1.98,1.99,2.0]},{\\\"mode\\\":\\\"lines+markers\\\",\\\"y\\\":[0.0,0.000985589822536544,0.003937922067228569,0.008843701290250017,0.015680845373090932,0.024418563656368443,0.035017501012192795,0.04742996530836267,0.0616000615727228,0.07746397861557662,0.09495021852581828,0.11398014490184101,0.1344680737712885,0.15632182689557306,0.17944274421025602,0.2037267607309963,0.229064740756827,0.2553425946579708,0.2824421563379988,0.31024085679420277,0.3386135450076509,0.36743280988739635,0.3965689919983057,0.4258912467932262,0.45526689405848453,0.4845632298424018,0.5136486447791572,0.5423926240887884,0.570665935437543,0.5983415837321837,0.6252938608987488,0.6514011039305863,0.6765461385436139,0.7006162791763202,0.7235035120127157,0.7451048856392203,0.7653220601044611,0.7840637000771014,0.8012457285379839,0.8167913267801316,0.830630990300718,0.8427022462431212,0.8529499523937791,0.8613277363268173,0.867798084510242,0.8723323423059403,0.8749105125469546,0.8755205909897995,0.8741594482470624,0.8708330801826879,0.8655566050619107,0.8583542349256214,0.8492583871011706,0.8383098510725919,0.8255577633393114,0.8110593901886828,0.7948801276959873,0.7770931384905625,0.7577783053171054,0.737022838291398,0.7149200194303711,0.691569109834418,0.6670753496873939,0.6415490139491811,0.6151051413882036,0.5878632640874561,0.559945808124962,0.5314780866090231,0.5025882929170549,0.4734061477038409,0.44406364612724325,0.41469349669625116,0.3854276840537245,0.3563974689763938,0.32773338086836806,0.2995640196334675,0.2720170078686228,0.24521712289181427,0.21928485706364648,0.19433641778734806,0.1704837270366851,0.14783379417367046,0.12648933049791353,0.10654715092706396,0.08809696177147065,0.07122136073418074,0.055995830790533586,0.04248874452150252,0.030761611881851253,0.02086758823983135,0.012851104987193157,0.006747869539185875,0.002585044068293686,0.0003817109269594804,0.00014795052730228223,0.0018847787203926311,0.005584205412879787,0.011229616398804449,0.018795676247698605,0.02824835394618058,0.03954499065819981,0.052634725615423476,0.06745857880457094,0.08394992454003977,0.10203456779004534,0.12163093642465778,0.142650861460713,0.16499946293041845,0.1885762643623602,0.21327529600505185,0.23898527494168434,0.26559060338307067,0.29297091846135376,0.3210029723984551,0.34956090457309724,0.3785162415208002,0.4077388749586626,0.4370967717996352,0.4664571580183379,0.49568807439147156,0.5246583766040273,0.5532377941497107,0.5812981125471216,0.6087119959322693,0.6353554791670423,0.6611088770841602,0.6858567844871742,0.7094881289358282,0.731896893830023,0.7529811564722945,0.7726454360960937,0.7908013814559457,0.807367770827449,0.8222705326864324,0.8354427461997221,0.8468242764960019,0.8563634631944469,0.8640174551299518,0.8697522103531292,0.8735424442258698,0.8753709356314344,0.8752289688259126,0.8731169642432807,0.8690444834432383,0.863030229111208,0.855101569121772,0.8452939331960849,0.833651353716025,0.8202260748462555,0.8050785483876715,0.7882773501363249,0.7698979543559589,0.7500233131992341,0.7287428598140749,0.7061521386218266,0.6823528053172546,0.6574522526132279,0.6315623552184081,0.6048002924574665,0.5772864989759167,0.549144465116972,0.5205007369215456,0.4914842490272367,0.46222562561573216,0.4328575011895257,0.40351205699485027,0.37432093241786585,0.3454152249846601,0.31692486164578365,0.2889782341494764,0.2617022514811782,0.23521978127836551,0.2096495695078439,0.18510624046574786,0.16169996607316375,0.13953633323285639,0.11871612376065142,0.0993332101551724,0.08147446891307299,0.06521978052903715,0.05064196553852998,0.03780712729682257,0.026773629357579706,0.017591170021382545,0.010300772797984479,0.004934824705003533,0.0015176448538750465,6.48958249332201e-5,0.0005831454397541697,0.0030699117017887866,0.007513937954692256,0.013895318472519099,0.022185384685934485,0.03234675259042042,0.04433361732352269,0.05809198337320496,0.07355996301152809,0.09066802538165272,0.10933900900925139,0.1294887718323476,0.15102666203937784],\\\"type\\\":\\\"scatter\\\",\\\"name\\\":\\\"P0_1\\\",\\\"x\\\":[0.0,0.01,0.02,0.03,0.04,0.05,0.06,0.07,0.08,0.09,0.1,0.11,0.12,0.13,0.14,0.15,0.16,0.17,0.18,0.19,0.2,0.21,0.22,0.23,0.24,0.25,0.26,0.27,0.28,0.29,0.3,0.31,0.32,0.33,0.34,0.35,0.36,0.37,0.38,0.39,0.4,0.41,0.42,0.43,0.44,0.45,0.46,0.47,0.48,0.49,0.5,0.51,0.52,0.53,0.54,0.55,0.56,0.57,0.58,0.59,0.6,0.61,0.62,0.63,0.64,0.65,0.66,0.67,0.68,0.69,0.7,0.71,0.72,0.73,0.74,0.75,0.76,0.77,0.78,0.79,0.8,0.81,0.82,0.83,0.84,0.85,0.86,0.87,0.88,0.89,0.9,0.91,0.92,0.93,0.94,0.95,0.96,0.97,0.98,0.99,1.0,1.01,1.02,1.03,1.04,1.05,1.06,1.07,1.08,1.09,1.1,1.11,1.12,1.13,1.14,1.15,1.16,1.17,1.18,1.19,1.2,1.21,1.22,1.23,1.24,1.25,1.26,1.27,1.28,1.29,1.3,1.31,1.32,1.33,1.34,1.35,1.36,1.37,1.38,1.39,1.4,1.41,1.42,1.43,1.44,1.45,1.46,1.47,1.48,1.49,1.5,1.51,1.52,1.53,1.54,1.55,1.56,1.57,1.58,1.59,1.6,1.61,1.62,1.63,1.64,1.65,1.66,1.67,1.68,1.69,1.7,1.71,1.72,1.73,1.74,1.75,1.76,1.77,1.78,1.79,1.8,1.81,1.82,1.83,1.84,1.85,1.86,1.87,1.88,1.89,1.9,1.91,1.92,1.93,1.94,1.95,1.96,1.97,1.98,1.99,2.0]}],{\\\"xaxis\\\":{\\\"title\\\":{\\\"text\\\":\\\"t\\\"}},\\\"template\\\":{\\\"layout\\\":{\\\"coloraxis\\\":{\\\"colorbar\\\":{\\\"ticks\\\":\\\"\\\",\\\"outlinewidth\\\":0}},\\\"xaxis\\\":{\\\"gridcolor\\\":\\\"white\\\",\\\"zerolinewidth\\\":2,\\\"title\\\":{\\\"standoff\\\":15},\\\"ticks\\\":\\\"\\\",\\\"zerolinecolor\\\":\\\"white\\\",\\\"automargin\\\":true,\\\"linecolor\\\":\\\"white\\\"},\\\"hovermode\\\":\\\"closest\\\",\\\"paper_bgcolor\\\":\\\"white\\\",\\\"geo\\\":{\\\"showlakes\\\":true,\\\"showland\\\":true,\\\"landcolor\\\":\\\"#E5ECF6\\\",\\\"bgcolor\\\":\\\"white\\\",\\\"subunitcolor\\\":\\\"white\\\",\\\"lakecolor\\\":\\\"white\\\"},\\\"colorscale\\\":{\\\"sequential\\\":[[0.0,\\\"#0d0887\\\"],[0.1111111111111111,\\\"#46039f\\\"],[0.2222222222222222,\\\"#7201a8\\\"],[0.3333333333333333,\\\"#9c179e\\\"],[0.4444444444444444,\\\"#bd3786\\\"],[0.5555555555555556,\\\"#d8576b\\\"],[0.6666666666666666,\\\"#ed7953\\\"],[0.7777777777777778,\\\"#fb9f3a\\\"],[0.8888888888888888,\\\"#fdca26\\\"],[1.0,\\\"#f0f921\\\"]],\\\"diverging\\\":[[0,\\\"#8e0152\\\"],[0.1,\\\"#c51b7d\\\"],[0.2,\\\"#de77ae\\\"],[0.3,\\\"#f1b6da\\\"],[0.4,\\\"#fde0ef\\\"],[0.5,\\\"#f7f7f7\\\"],[0.6,\\\"#e6f5d0\\\"],[0.7,\\\"#b8e186\\\"],[0.8,\\\"#7fbc41\\\"],[0.9,\\\"#4d9221\\\"],[1,\\\"#276419\\\"]],\\\"sequentialminus\\\":[[0.0,\\\"#0d0887\\\"],[0.1111111111111111,\\\"#46039f\\\"],[0.2222222222222222,\\\"#7201a8\\\"],[0.3333333333333333,\\\"#9c179e\\\"],[0.4444444444444444,\\\"#bd3786\\\"],[0.5555555555555556,\\\"#d8576b\\\"],[0.6666666666666666,\\\"#ed7953\\\"],[0.7777777777777778,\\\"#fb9f3a\\\"],[0.8888888888888888,\\\"#fdca26\\\"],[1.0,\\\"#f0f921\\\"]]},\\\"yaxis\\\":{\\\"gridcolor\\\":\\\"white\\\",\\\"zerolinewidth\\\":2,\\\"title\\\":{\\\"standoff\\\":15},\\\"ticks\\\":\\\"\\\",\\\"zerolinecolor\\\":\\\"white\\\",\\\"automargin\\\":true,\\\"linecolor\\\":\\\"white\\\"},\\\"shapedefaults\\\":{\\\"line\\\":{\\\"color\\\":\\\"#2a3f5f\\\"}},\\\"hoverlabel\\\":{\\\"align\\\":\\\"left\\\"},\\\"mapbox\\\":{\\\"style\\\":\\\"light\\\"},\\\"polar\\\":{\\\"angularaxis\\\":{\\\"gridcolor\\\":\\\"white\\\",\\\"ticks\\\":\\\"\\\",\\\"linecolor\\\":\\\"white\\\"},\\\"bgcolor\\\":\\\"#E5ECF6\\\",\\\"radialaxis\\\":{\\\"gridcolor\\\":\\\"white\\\",\\\"ticks\\\":\\\"\\\",\\\"linecolor\\\":\\\"white\\\"}},\\\"autotypenumbers\\\":\\\"strict\\\",\\\"font\\\":{\\\"color\\\":\\\"#2a3f5f\\\"},\\\"ternary\\\":{\\\"baxis\\\":{\\\"gridcolor\\\":\\\"white\\\",\\\"ticks\\\":\\\"\\\",\\\"linecolor\\\":\\\"white\\\"},\\\"bgcolor\\\":\\\"#E5ECF6\\\",\\\"caxis\\\":{\\\"gridcolor\\\":\\\"white\\\",\\\"ticks\\\":\\\"\\\",\\\"linecolor\\\":\\\"white\\\"},\\\"aaxis\\\":{\\\"gridcolor\\\":\\\"white\\\",\\\"ticks\\\":\\\"\\\",\\\"linecolor\\\":\\\"white\\\"}},\\\"annotationdefaults\\\":{\\\"arrowhead\\\":0,\\\"arrowwidth\\\":1,\\\"arrowcolor\\\":\\\"#2a3f5f\\\"},\\\"plot_bgcolor\\\":\\\"#E5ECF6\\\",\\\"title\\\":{\\\"x\\\":0.05},\\\"scene\\\":{\\\"xaxis\\\":{\\\"gridcolor\\\":\\\"white\\\",\\\"gridwidth\\\":2,\\\"backgroundcolor\\\":\\\"#E5ECF6\\\",\\\"ticks\\\":\\\"\\\",\\\"showbackground\\\":true,\\\"zerolinecolor\\\":\\\"white\\\",\\\"linecolor\\\":\\\"white\\\"},\\\"zaxis\\\":{\\\"gridcolor\\\":\\\"white\\\",\\\"gridwidth\\\":2,\\\"backgroundcolor\\\":\\\"#E5ECF6\\\",\\\"ticks\\\":\\\"\\\",\\\"showbackground\\\":true,\\\"zerolinecolor\\\":\\\"white\\\",\\\"linecolor\\\":\\\"white\\\"},\\\"yaxis\\\":{\\\"gridcolor\\\":\\\"white\\\",\\\"gridwidth\\\":2,\\\"backgroundcolor\\\":\\\"#E5ECF6\\\",\\\"ticks\\\":\\\"\\\",\\\"showbackground\\\":true,\\\"zerolinecolor\\\":\\\"white\\\",\\\"linecolor\\\":\\\"white\\\"}},\\\"colorway\\\":[\\\"#636efa\\\",\\\"#EF553B\\\",\\\"#00cc96\\\",\\\"#ab63fa\\\",\\\"#FFA15A\\\",\\\"#19d3f3\\\",\\\"#FF6692\\\",\\\"#B6E880\\\",\\\"#FF97FF\\\",\\\"#FECB52\\\"]},\\\"data\\\":{\\\"barpolar\\\":[{\\\"type\\\":\\\"barpolar\\\",\\\"marker\\\":{\\\"line\\\":{\\\"color\\\":\\\"#E5ECF6\\\",\\\"width\\\":0.5}}}],\\\"carpet\\\":[{\\\"aaxis\\\":{\\\"gridcolor\\\":\\\"white\\\",\\\"endlinecolor\\\":\\\"#2a3f5f\\\",\\\"minorgridcolor\\\":\\\"white\\\",\\\"startlinecolor\\\":\\\"#2a3f5f\\\",\\\"linecolor\\\":\\\"white\\\"},\\\"type\\\":\\\"carpet\\\",\\\"baxis\\\":{\\\"gridcolor\\\":\\\"white\\\",\\\"endlinecolor\\\":\\\"#2a3f5f\\\",\\\"minorgridcolor\\\":\\\"white\\\",\\\"startlinecolor\\\":\\\"#2a3f5f\\\",\\\"linecolor\\\":\\\"white\\\"}}],\\\"scatterpolar\\\":[{\\\"type\\\":\\\"scatterpolar\\\",\\\"marker\\\":{\\\"colorbar\\\":{\\\"ticks\\\":\\\"\\\",\\\"outlinewidth\\\":0}}}],\\\"parcoords\\\":[{\\\"line\\\":{\\\"colorbar\\\":{\\\"ticks\\\":\\\"\\\",\\\"outlinewidth\\\":0}},\\\"type\\\":\\\"parcoords\\\"}],\\\"scatter\\\":[{\\\"type\\\":\\\"scatter\\\",\\\"marker\\\":{\\\"colorbar\\\":{\\\"ticks\\\":\\\"\\\",\\\"outlinewidth\\\":0}}}],\\\"histogram2dcontour\\\":[{\\\"colorbar\\\":{\\\"ticks\\\":\\\"\\\",\\\"outlinewidth\\\":0},\\\"type\\\":\\\"histogram2dcontour\\\",\\\"colorscale\\\":[[0.0,\\\"#0d0887\\\"],[0.1111111111111111,\\\"#46039f\\\"],[0.2222222222222222,\\\"#7201a8\\\"],[0.3333333333333333,\\\"#9c179e\\\"],[0.4444444444444444,\\\"#bd3786\\\"],[0.5555555555555556,\\\"#d8576b\\\"],[0.6666666666666666,\\\"#ed7953\\\"],[0.7777777777777778,\\\"#fb9f3a\\\"],[0.8888888888888888,\\\"#fdca26\\\"],[1.0,\\\"#f0f921\\\"]]}],\\\"contour\\\":[{\\\"colorbar\\\":{\\\"ticks\\\":\\\"\\\",\\\"outlinewidth\\\":0},\\\"type\\\":\\\"contour\\\",\\\"colorscale\\\":[[0.0,\\\"#0d0887\\\"],[0.1111111111111111,\\\"#46039f\\\"],[0.2222222222222222,\\\"#7201a8\\\"],[0.3333333333333333,\\\"#9c179e\\\"],[0.4444444444444444,\\\"#bd3786\\\"],[0.5555555555555556,\\\"#d8576b\\\"],[0.6666666666666666,\\\"#ed7953\\\"],[0.7777777777777778,\\\"#fb9f3a\\\"],[0.8888888888888888,\\\"#fdca26\\\"],[1.0,\\\"#f0f921\\\"]]}],\\\"scattercarpet\\\":[{\\\"type\\\":\\\"scattercarpet\\\",\\\"marker\\\":{\\\"colorbar\\\":{\\\"ticks\\\":\\\"\\\",\\\"outlinewidth\\\":0}}}],\\\"mesh3d\\\":[{\\\"colorbar\\\":{\\\"ticks\\\":\\\"\\\",\\\"outlinewidth\\\":0},\\\"type\\\":\\\"mesh3d\\\"}],\\\"surface\\\":[{\\\"colorbar\\\":{\\\"ticks\\\":\\\"\\\",\\\"outlinewidth\\\":0},\\\"type\\\":\\\"surface\\\",\\\"colorscale\\\":[[0.0,\\\"#0d0887\\\"],[0.1111111111111111,\\\"#46039f\\\"],[0.2222222222222222,\\\"#7201a8\\\"],[0.3333333333333333,\\\"#9c179e\\\"],[0.4444444444444444,\\\"#bd3786\\\"],[0.5555555555555556,\\\"#d8576b\\\"],[0.6666666666666666,\\\"#ed7953\\\"],[0.7777777777777778,\\\"#fb9f3a\\\"],[0.8888888888888888,\\\"#fdca26\\\"],[1.0,\\\"#f0f921\\\"]]}],\\\"scattermapbox\\\":[{\\\"type\\\":\\\"scattermapbox\\\",\\\"marker\\\":{\\\"colorbar\\\":{\\\"ticks\\\":\\\"\\\",\\\"outlinewidth\\\":0}}}],\\\"scattergeo\\\":[{\\\"type\\\":\\\"scattergeo\\\",\\\"marker\\\":{\\\"colorbar\\\":{\\\"ticks\\\":\\\"\\\",\\\"outlinewidth\\\":0}}}],\\\"histogram\\\":[{\\\"type\\\":\\\"histogram\\\",\\\"marker\\\":{\\\"colorbar\\\":{\\\"ticks\\\":\\\"\\\",\\\"outlinewidth\\\":0}}}],\\\"pie\\\":[{\\\"type\\\":\\\"pie\\\",\\\"automargin\\\":true}],\\\"choropleth\\\":[{\\\"colorbar\\\":{\\\"ticks\\\":\\\"\\\",\\\"outlinewidth\\\":0},\\\"type\\\":\\\"choropleth\\\"}],\\\"heatmapgl\\\":[{\\\"colorbar\\\":{\\\"ticks\\\":\\\"\\\",\\\"outlinewidth\\\":0},\\\"type\\\":\\\"heatmapgl\\\",\\\"colorscale\\\":[[0.0,\\\"#0d0887\\\"],[0.1111111111111111,\\\"#46039f\\\"],[0.2222222222222222,\\\"#7201a8\\\"],[0.3333333333333333,\\\"#9c179e\\\"],[0.4444444444444444,\\\"#bd3786\\\"],[0.5555555555555556,\\\"#d8576b\\\"],[0.6666666666666666,\\\"#ed7953\\\"],[0.7777777777777778,\\\"#fb9f3a\\\"],[0.8888888888888888,\\\"#fdca26\\\"],[1.0,\\\"#f0f921\\\"]]}],\\\"bar\\\":[{\\\"type\\\":\\\"bar\\\",\\\"error_y\\\":{\\\"color\\\":\\\"#2a3f5f\\\"},\\\"error_x\\\":{\\\"color\\\":\\\"#2a3f5f\\\"},\\\"marker\\\":{\\\"line\\\":{\\\"color\\\":\\\"#E5ECF6\\\",\\\"width\\\":0.5}}}],\\\"heatmap\\\":[{\\\"colorbar\\\":{\\\"ticks\\\":\\\"\\\",\\\"outlinewidth\\\":0},\\\"type\\\":\\\"heatmap\\\",\\\"colorscale\\\":[[0.0,\\\"#0d0887\\\"],[0.1111111111111111,\\\"#46039f\\\"],[0.2222222222222222,\\\"#7201a8\\\"],[0.3333333333333333,\\\"#9c179e\\\"],[0.4444444444444444,\\\"#bd3786\\\"],[0.5555555555555556,\\\"#d8576b\\\"],[0.6666666666666666,\\\"#ed7953\\\"],[0.7777777777777778,\\\"#fb9f3a\\\"],[0.8888888888888888,\\\"#fdca26\\\"],[1.0,\\\"#f0f921\\\"]]}],\\\"contourcarpet\\\":[{\\\"colorbar\\\":{\\\"ticks\\\":\\\"\\\",\\\"outlinewidth\\\":0},\\\"type\\\":\\\"contourcarpet\\\"}],\\\"table\\\":[{\\\"type\\\":\\\"table\\\",\\\"header\\\":{\\\"line\\\":{\\\"color\\\":\\\"white\\\"},\\\"fill\\\":{\\\"color\\\":\\\"#C8D4E3\\\"}},\\\"cells\\\":{\\\"line\\\":{\\\"color\\\":\\\"white\\\"},\\\"fill\\\":{\\\"color\\\":\\\"#EBF0F8\\\"}}}],\\\"scatter3d\\\":[{\\\"line\\\":{\\\"colorbar\\\":{\\\"ticks\\\":\\\"\\\",\\\"outlinewidth\\\":0}},\\\"type\\\":\\\"scatter3d\\\",\\\"marker\\\":{\\\"colorbar\\\":{\\\"ticks\\\":\\\"\\\",\\\"outlinewidth\\\":0}}}],\\\"scattergl\\\":[{\\\"type\\\":\\\"scattergl\\\",\\\"marker\\\":{\\\"colorbar\\\":{\\\"ticks\\\":\\\"\\\",\\\"outlinewidth\\\":0}}}],\\\"histogram2d\\\":[{\\\"colorbar\\\":{\\\"ticks\\\":\\\"\\\",\\\"outlinewidth\\\":0},\\\"type\\\":\\\"histogram2d\\\",\\\"colorscale\\\":[[0.0,\\\"#0d0887\\\"],[0.1111111111111111,\\\"#46039f\\\"],[0.2222222222222222,\\\"#7201a8\\\"],[0.3333333333333333,\\\"#9c179e\\\"],[0.4444444444444444,\\\"#bd3786\\\"],[0.5555555555555556,\\\"#d8576b\\\"],[0.6666666666666666,\\\"#ed7953\\\"],[0.7777777777777778,\\\"#fb9f3a\\\"],[0.8888888888888888,\\\"#fdca26\\\"],[1.0,\\\"#f0f921\\\"]]}],\\\"scatterternary\\\":[{\\\"type\\\":\\\"scatterternary\\\",\\\"marker\\\":{\\\"colorbar\\\":{\\\"ticks\\\":\\\"\\\",\\\"outlinewidth\\\":0}}}],\\\"scatterpolargl\\\":[{\\\"type\\\":\\\"scatterpolargl\\\",\\\"marker\\\":{\\\"colorbar\\\":{\\\"ticks\\\":\\\"\\\",\\\"outlinewidth\\\":0}}}]}},\\\"margin\\\":{\\\"l\\\":50,\\\"b\\\":50,\\\"r\\\":50,\\\"t\\\":60},\\\"yaxis\\\":{\\\"title\\\":{\\\"text\\\":\\\"P\\\"}}},{\\\"showLink\\\":false,\\\"editable\\\":false,\\\"responsive\\\":true,\\\"staticPlot\\\":false,\\\"scrollZoom\\\":true}); gd.on(\\\"plotly_hover\\\",(function (data){var filtered_data=WebIO.PlotlyCommands.filterEventData(gd,data,\\\"hover\\\"); return !(filtered_data.isnil) ? (WebIO.setval({\\\"name\\\":\\\"hover\\\",\\\"scope\\\":\\\"5533058425122352045\\\",\\\"id\\\":\\\"11\\\",\\\"type\\\":\\\"observable\\\"},filtered_data.out)) : undefined})); gd.on(\\\"plotly_unhover\\\",(function (){return WebIO.setval({\\\"name\\\":\\\"hover\\\",\\\"scope\\\":\\\"5533058425122352045\\\",\\\"id\\\":\\\"11\\\",\\\"type\\\":\\\"observable\\\"},{})})); gd.on(\\\"plotly_selected\\\",(function (data){var filtered_data=WebIO.PlotlyCommands.filterEventData(gd,data,\\\"selected\\\"); return !(filtered_data.isnil) ? (WebIO.setval({\\\"name\\\":\\\"selected\\\",\\\"scope\\\":\\\"5533058425122352045\\\",\\\"id\\\":\\\"12\\\",\\\"type\\\":\\\"observable\\\"},filtered_data.out)) : undefined})); gd.on(\\\"plotly_deselect\\\",(function (){return WebIO.setval({\\\"name\\\":\\\"selected\\\",\\\"scope\\\":\\\"5533058425122352045\\\",\\\"id\\\":\\\"12\\\",\\\"type\\\":\\\"observable\\\"},{})})); gd.on(\\\"plotly_relayout\\\",(function (data){var filtered_data=WebIO.PlotlyCommands.filterEventData(gd,data,\\\"relayout\\\"); return !(filtered_data.isnil) ? (WebIO.setval({\\\"name\\\":\\\"relayout\\\",\\\"scope\\\":\\\"5533058425122352045\\\",\\\"id\\\":\\\"14\\\",\\\"type\\\":\\\"observable\\\"},filtered_data.out)) : undefined})); return gd.on(\\\"plotly_click\\\",(function (data){var filtered_data=WebIO.PlotlyCommands.filterEventData(gd,data,\\\"click\\\"); return !(filtered_data.isnil) ? (WebIO.setval({\\\"name\\\":\\\"click\\\",\\\"scope\\\":\\\"5533058425122352045\\\",\\\"id\\\":\\\"13\\\",\\\"type\\\":\\\"observable\\\"},filtered_data.out)) : undefined}))}));\\n    (WebIO.importBlock({\\\"data\\\":[{\\\"name\\\":\\\"Plotly\\\",\\\"type\\\":\\\"js\\\",\\\"url\\\":\\\"\\/assetserver\\/7902f3f6b090f0fa2e81c169a2fb8c366a40d028-plotly.min.js\\\"},{\\\"name\\\":null,\\\"type\\\":\\\"js\\\",\\\"url\\\":\\\"\\/assetserver\\/e47824ec79264c4348ebcb364c15ce844fc6ae7d-plotly_webio.bundle.js\\\"}],\\\"type\\\":\\\"async_block\\\"})).then((imports) => handler.apply(this, imports));\\n}\\n\"],\"observables\":{\"_toImage\":{\"sync\":false,\"id\":\"18\",\"value\":{}},\"hover\":{\"sync\":false,\"id\":\"11\",\"value\":{}},\"selected\":{\"sync\":false,\"id\":\"12\",\"value\":{}},\"__gd_contents\":{\"sync\":false,\"id\":\"16\",\"value\":{}},\"click\":{\"sync\":false,\"id\":\"13\",\"value\":{}},\"image\":{\"sync\":true,\"id\":\"15\",\"value\":\"\"},\"__get_gd_contents\":{\"sync\":false,\"id\":\"20\",\"value\":\"\"},\"_downloadImage\":{\"sync\":false,\"id\":\"19\",\"value\":{}},\"relayout\":{\"sync\":false,\"id\":\"14\",\"value\":{}},\"_commands\":{\"sync\":false,\"id\":\"17\",\"value\":[]}}},\"children\":[{\"props\":{\"id\":\"plot-de219b90-fb96-46bb-95a6-0378aa4271c5\"},\"nodeType\":\"DOM\",\"type\":\"node\",\"instanceArgs\":{\"namespace\":\"html\",\"tag\":\"div\"},\"children\":[]}]},\n",
       "        window,\n",
       "    );\n",
       "    })()\n",
       "    </script>\n",
       "</div>\n"
      ],
      "text/plain": [
       "data: [\n",
       "  \"scatter with fields mode, name, type, x, and y\",\n",
       "  \"scatter with fields mode, name, type, x, and y\"\n",
       "]\n",
       "\n",
       "layout: \"layout with fields margin, template, xaxis, and yaxis\"\n",
       "\n"
      ]
     },
     "metadata": {},
     "output_type": "display_data"
    }
   ],
   "source": [
    "using PlotlyJS\n",
    "trace1 = scatter(x=tspan, y=P1_2,\n",
    "mode=\"lines+markers\",\n",
    "name=\"P1_1\");\n",
    "trace3 = scatter(x=tspan, y=Pr_2,\n",
    "mode=\"lines+markers\",\n",
    "name=\"P0_1\");\n",
    "layout = Layout(xaxis_title=\"t\",\n",
    "    yaxis_title=\"P\")\n",
    "plot([trace1,trace3], layout)  "
   ]
  },
  {
   "cell_type": "code",
   "execution_count": null,
   "metadata": {},
   "outputs": [
    {
     "name": "stdout",
     "output_type": "stream",
     "text": [
      "0\n"
     ]
    },
    {
     "ename": "ErrorException",
     "evalue": "cannot document the following expression:\n\n\"trace4 = scatter(x=tspan, y=P0_2,\\nmode=\\\"lines+markers\\\",\\nname=\\\"P0_2\\\")\"\n",
     "output_type": "error",
     "traceback": [
      "cannot document the following expression:\n",
      "\n",
      "\"trace4 = scatter(x=tspan, y=P0_2,\\nmode=\\\"lines+markers\\\",\\nname=\\\"P0_2\\\")\"\n",
      "\n",
      "\n",
      "Stacktrace:\n",
      " [1] top-level scope\n",
      "   @ c:\\Users\\А\\Documents\\GitHub\\ColdAtoms.jl\\notebooks\\two_atom_modeling.ipynb:3"
     ]
    }
   ],
   "source": [
    "println(0)\n",
    "\"\"\"trace2 = scatter(x=tspan, y=P1_2,\n",
    "mode=\"lines+markers\",\n",
    "name=\"P1_2\")\"\"\"\n",
    "\"\"\"trace4 = scatter(x=tspan, y=P0_2,\n",
    "mode=\"lines+markers\",\n",
    "name=\"P0_2\")\"\"\" \n",
    "#,trace3,trace4]) "
   ]
  },
  {
   "cell_type": "code",
   "execution_count": 7,
   "metadata": {},
   "outputs": [],
   "source": [
    "if false\n",
    "ρ_mean, ρ2_mean = simulation_blue_intens(\n",
    "        tspan, ψ0,  \n",
    "        atom_params,    trap_params,     samples,\n",
    "        red_laser_params,    blue_laser_params,\n",
    "        detuning_params,    decay_params;\n",
    "        atom_motion = true,    free_motion = true,   \n",
    "        spontaneous_decay = true, parallel = false\n",
    "        );\n",
    "        \n",
    "    Pg_HG = real(expect(g ⊗ dagger(g), ρ_mean)); \n",
    "    Pr_HG = real(expect(r ⊗ dagger(r), ρ_mean));  \n",
    "end;"
   ]
  },
  {
   "cell_type": "code",
   "execution_count": 16,
   "metadata": {},
   "outputs": [
    {
     "data": {
      "text/plain": [
       "5×7 ConstantArray{Int64, 2} = 42"
      ]
     },
     "metadata": {},
     "output_type": "display_data"
    }
   ],
   "source": [
    "using FillArrays\n",
    "x = ConstantArray(42, (5,7))\n",
    "x"
   ]
  },
  {
   "cell_type": "code",
   "execution_count": null,
   "metadata": {},
   "outputs": [
    {
     "data": {
      "text/plain": [
       "Vector{Float64}\u001b[90m (alias for \u001b[39m\u001b[90mArray{Float64, 1}\u001b[39m\u001b[90m)\u001b[39m"
      ]
     },
     "metadata": {},
     "output_type": "display_data"
    }
   ],
   "source": [
    "operators = []\n",
    "A = Array{Float64}(undef, 3) \n",
    "for i in 1:3\n",
    "    const A[i] = 0\n",
    "    push!(operators, A[i])\n",
    "end\n",
    "typeof(A)"
   ]
  },
  {
   "cell_type": "code",
   "execution_count": 18,
   "metadata": {},
   "outputs": [
    {
     "data": {
      "text/plain": [
       "Operator{NLevelBasis{Int64}, NLevelBasis{Int64}, Matrix{ComplexF64}}"
      ]
     },
     "metadata": {},
     "output_type": "display_data"
    }
   ],
   "source": [
    "typeof(g1 ⊗ dagger(g1))"
   ]
  },
  {
   "cell_type": "code",
   "execution_count": null,
   "metadata": {},
   "outputs": [
    {
     "ename": "ErrorException",
     "evalue": "syntax: unsupported `const` declaration on local variable",
     "output_type": "error",
     "traceback": [
      "syntax: unsupported `const` declaration on local variable\n",
      "\n",
      "Stacktrace:\n",
      " [1] top-level scope\n",
      "   @ c:\\Users\\А\\Documents\\GitHub\\ColdAtoms.jl\\notebooks\\two_atom_modeling.ipynb:1"
     ]
    }
   ],
   "source": [
    "\n",
    "\n",
    "operators = [const oper = i for i in 1:5]"
   ]
  }
 ],
 "metadata": {
  "kernelspec": {
   "display_name": "Julia 1.11.5",
   "language": "julia",
   "name": "julia-1.11"
  },
  "language_info": {
   "file_extension": ".jl",
   "mimetype": "application/julia",
   "name": "julia",
   "version": "1.11.5"
  }
 },
 "nbformat": 4,
 "nbformat_minor": 2
}
